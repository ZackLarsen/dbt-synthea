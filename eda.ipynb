{
 "cells": [
  {
   "cell_type": "code",
   "execution_count": 92,
   "metadata": {},
   "outputs": [],
   "source": [
    "import os\n",
    "import glob\n",
    "from pathlib import Path\n",
    "from pprint import pprint\n",
    "\n",
    "import polars as pl\n",
    "import duckdb"
   ]
  },
  {
   "cell_type": "code",
   "execution_count": 2,
   "metadata": {},
   "outputs": [
    {
     "name": "stdout",
     "output_type": "stream",
     "text": [
      "total 192856\n",
      "-rw-r--r--@ 1 zacklarsen  staff    68K Apr 28  2020 allergies.csv\n",
      "-rw-r--r--  1 zacklarsen  staff    11K Aug 20 09:47 allergies.parquet\n",
      "-rw-r--r--@ 1 zacklarsen  staff   657K Apr 28  2020 careplans.csv\n",
      "-rw-r--r--  1 zacklarsen  staff   208K Aug 20 09:47 careplans.parquet\n",
      "-rw-r--r--@ 1 zacklarsen  staff   1.0M Apr 28  2020 conditions.csv\n",
      "-rw-r--r--  1 zacklarsen  staff   260K Aug 20 09:47 conditions.parquet\n",
      "-rw-r--r--@ 1 zacklarsen  staff    17K Apr 28  2020 devices.csv\n",
      "-rw-r--r--  1 zacklarsen  staff   8.0K Aug 20 09:47 devices.parquet\n",
      "-rw-r--r--@ 1 zacklarsen  staff    16M Apr 28  2020 encounters.csv\n",
      "-rw-r--r--  1 zacklarsen  staff   1.9M Aug 20 09:47 encounters.parquet\n",
      "-rw-r--r--@ 1 zacklarsen  staff   201K Apr 28  2020 imaging_studies.csv\n",
      "-rw-r--r--  1 zacklarsen  staff    49K Aug 20 09:47 imaging_studies.parquet\n",
      "-rw-r--r--@ 1 zacklarsen  staff   2.1M Apr 28  2020 immunizations.csv\n",
      "-rw-r--r--  1 zacklarsen  staff   321K Aug 20 09:47 immunizations.parquet\n",
      "-rw-r--r--@ 1 zacklarsen  staff    10M Apr 28  2020 medications.csv\n",
      "-rw-r--r--  1 zacklarsen  staff   1.2M Aug 20 09:47 medications.parquet\n",
      "-rw-r--r--@ 1 zacklarsen  staff    41M Apr 28  2020 observations.csv\n",
      "-rw-r--r--  1 zacklarsen  staff   1.8M Aug 20 09:47 observations.parquet\n",
      "-rw-r--r--@ 1 zacklarsen  staff   166K Apr 28  2020 organizations.csv\n",
      "-rw-r--r--  1 zacklarsen  staff    67K Aug 20 09:47 organizations.parquet\n",
      "-rw-r--r--@ 1 zacklarsen  staff   325K Apr 28  2020 patients.csv\n",
      "-rw-r--r--  1 zacklarsen  staff   118K Aug 20 09:47 patients.parquet\n",
      "-rw-r--r--@ 1 zacklarsen  staff   333K Apr 28  2020 payer_transitions.csv\n",
      "-rw-r--r--  1 zacklarsen  staff    38K Aug 20 09:47 payer_transitions.parquet\n",
      "-rw-r--r--@ 1 zacklarsen  staff   2.1K Apr 28  2020 payers.csv\n",
      "-rw-r--r--  1 zacklarsen  staff   6.8K Aug 20 09:47 payers.parquet\n",
      "-rw-r--r--@ 1 zacklarsen  staff   5.4M Apr 28  2020 procedures.csv\n",
      "-rw-r--r--  1 zacklarsen  staff   769K Aug 20 09:47 procedures.parquet\n",
      "-rw-r--r--@ 1 zacklarsen  staff   1.0M Apr 28  2020 providers.csv\n",
      "-rw-r--r--  1 zacklarsen  staff   244K Aug 20 09:47 providers.parquet\n",
      "-rw-r--r--@ 1 zacklarsen  staff    49B Apr 28  2020 supplies.csv\n",
      "-rw-r--r--  1 zacklarsen  staff   817B Aug 20 09:47 supplies.parquet\n",
      "-rw-r--r--@ 1 zacklarsen  staff   8.6M Aug 20 08:39 synthea_sample_data_csv_apr2020.zip\n"
     ]
    }
   ],
   "source": [
    "ls -lh ./seeds"
   ]
  },
  {
   "cell_type": "code",
   "execution_count": 3,
   "metadata": {},
   "outputs": [
    {
     "name": "stdout",
     "output_type": "stream",
     "text": [
      "medications.csv\n",
      "providers.csv\n",
      "observations.parquet\n",
      "allergies.parquet\n",
      "procedures.parquet\n",
      "payer_transitions.csv\n",
      "imaging_studies.csv\n",
      "supplies.csv\n",
      "payers.csv\n",
      "patients.parquet\n",
      "conditions.parquet\n",
      "organizations.parquet\n",
      "allergies.csv\n",
      "supplies.parquet\n",
      "procedures.csv\n",
      "imaging_studies.parquet\n",
      "organizations.csv\n",
      "immunizations.parquet\n",
      "conditions.csv\n",
      "careplans.csv\n",
      "encounters.parquet\n",
      "encounters.csv\n",
      "devices.csv\n",
      "synthea_sample_data_csv_apr2020.zip\n",
      "immunizations.csv\n",
      "devices.parquet\n",
      "payers.parquet\n",
      "patients.csv\n",
      "medications.parquet\n",
      "careplans.parquet\n",
      "payer_transitions.parquet\n",
      "providers.parquet\n",
      "observations.csv\n"
     ]
    }
   ],
   "source": [
    "for file in os.listdir('seeds'):\n",
    "    print(file)"
   ]
  },
  {
   "cell_type": "code",
   "execution_count": 33,
   "metadata": {},
   "outputs": [
    {
     "name": "stdout",
     "output_type": "stream",
     "text": [
      "medications.csv\n",
      "['start', 'stop', 'patient', 'payer', 'encounter', 'code', 'description', 'base_cost', 'payer_coverage', 'dispenses', 'totalcost', 'reasoncode', 'reasondescription']\n",
      "providers.csv\n",
      "['id', 'organization', 'name', 'gender', 'speciality', 'address', 'city', 'state', 'zip', 'lat', 'lon', 'utilization']\n",
      "payer_transitions.csv\n",
      "['patient', 'start_year', 'end_year', 'payer', 'ownership']\n",
      "imaging_studies.csv\n",
      "['id', 'date', 'patient', 'encounter', 'bodysite_code', 'bodysite_description', 'modality_code', 'modality_description', 'sop_code', 'sop_description']\n",
      "supplies.csv\n",
      "['date', 'patient', 'encounter', 'code', 'description', 'quantity']\n",
      "payers.csv\n",
      "['id', 'name', 'address', 'city', 'state_headquartered', 'zip', 'phone', 'amount_covered', 'amount_uncovered', 'revenue', 'covered_encounters', 'uncovered_encounters', 'covered_medications', 'uncovered_medications', 'covered_procedures', 'uncovered_procedures', 'covered_immunizations', 'uncovered_immunizations', 'unique_customers', 'qols_avg', 'member_months']\n",
      "allergies.csv\n",
      "['start', 'stop', 'patient', 'encounter', 'code', 'description']\n",
      "procedures.csv\n",
      "['date', 'patient', 'encounter', 'code', 'description', 'base_cost', 'reasoncode', 'reasondescription']\n",
      "organizations.csv\n",
      "['id', 'name', 'address', 'city', 'state', 'zip', 'lat', 'lon', 'phone', 'revenue', 'utilization']\n",
      "conditions.csv\n",
      "['start', 'stop', 'patient', 'encounter', 'code', 'description']\n",
      "careplans.csv\n",
      "['id', 'start', 'stop', 'patient', 'encounter', 'code', 'description', 'reasoncode', 'reasondescription']\n",
      "encounters.csv\n",
      "['id', 'start', 'stop', 'patient', 'organization', 'provider', 'payer', 'encounterclass', 'code', 'description', 'base_encounter_cost', 'total_claim_cost', 'payer_coverage', 'reasoncode', 'reasondescription']\n",
      "devices.csv\n",
      "['start', 'stop', 'patient', 'encounter', 'code', 'description', 'udi']\n",
      "immunizations.csv\n",
      "['date', 'patient', 'encounter', 'code', 'description', 'base_cost']\n",
      "patients.csv\n",
      "['id', 'birthdate', 'deathdate', 'ssn', 'drivers', 'passport', 'prefix', 'first', 'last', 'suffix', 'maiden', 'marital', 'race', 'ethnicity', 'gender', 'birthplace', 'address', 'city', 'state', 'county', 'zip', 'lat', 'lon', 'healthcare_expenses', 'healthcare_coverage']\n",
      "observations.csv\n",
      "['date', 'patient', 'encounter', 'code', 'description', 'value', 'units', 'type']\n"
     ]
    }
   ],
   "source": [
    "for file in os.listdir('seeds'):\n",
    "    if file.endswith('.csv'):\n",
    "        path = os.path.join('seeds', file)\n",
    "        print(file)\n",
    "        print(pl.scan_csv(path, with_column_names=lambda cols: [col.lower() for col in cols]).columns)"
   ]
  },
  {
   "cell_type": "code",
   "execution_count": 5,
   "metadata": {},
   "outputs": [
    {
     "name": "stdout",
     "output_type": "stream",
     "text": [
      "Rows: 1171\n",
      "Columns: 25\n",
      "$ Id                  <str> 1d604da9-9a81-4ba9-80c2-de3375d59b40, 034e9e3b-2def-4559-bb2a-7850888ae060, 10339b10-3cd1-4ac3-ac13-ec26728cb592, 8d4c4326-e9de-4f45-9a4c-f8c36bff89ae, f5dcd418-09fe-4a2f-baa0-3da800bd8c3a, 72c0b9ce-7aa4-430b-aaff-bd0ce7846e55, b1e9b0b9-da6e-4f68-b603-bd896a50ca86, 01207ecd-9dff-4754-8887-4652eda231e2, b58731cc-2d8b-4c2d-b327-4cab771af3ef, cfee79fc-df05-476e-b274-43e09ea345db\n",
      "$ BIRTHDATE           <str> 1989-05-25, 1983-11-14, 1992-06-02, 1978-05-27, 1996-10-18, 2017-07-27, 2003-12-13, 2019-05-15, 1970-05-16, 2016-07-04\n",
      "$ DEATHDATE           <str> None, None, None, None, None, None, None, None, None, None\n",
      "$ SSN                 <str> 999-76-6866, 999-73-5361, 999-27-3385, 999-85-4926, 999-60-7372, 999-68-6630, 999-73-2461, 999-81-4349, 999-90-2484, 999-15-5895\n",
      "$ DRIVERS             <str> S99984236, S99962402, S99972682, S99974448, S99915787, None, S99954048, None, S99978036, None\n",
      "$ PASSPORT            <str> X19277260X, X88275464X, X73754411X, X40915583X, X86772962X, None, None, None, X78170348X, None\n",
      "$ PREFIX              <str> Mr., Mr., Mr., Mrs., Mr., None, None, None, Mrs., None\n",
      "$ FIRST               <str> José Eduardo181, Milo271, Jayson808, Mariana775, Gregorio366, Jacinto644, Jimmie93, Karyn217, Isabel214, Alva958\n",
      "$ LAST                <str> Gómez206, Feil794, Fadel536, Rutherford999, Auer97, Kris249, Harris789, Mueller846, Lucio648, Krajcik437\n",
      "$ SUFFIX              <str> None, None, None, None, None, None, None, None, None, None\n",
      "$ MAIDEN              <str> None, None, None, Williamson769, None, None, None, None, Carvajal694, None\n",
      "$ MARITAL             <str> M, M, M, M, None, None, None, None, M, None\n",
      "$ RACE                <str> white, white, white, white, white, white, white, white, white, white\n",
      "$ ETHNICITY           <str> hispanic, nonhispanic, nonhispanic, nonhispanic, nonhispanic, nonhispanic, nonhispanic, nonhispanic, hispanic, nonhispanic\n",
      "$ GENDER              <str> M, M, M, F, M, M, F, F, F, F\n",
      "$ BIRTHPLACE          <str> Marigot  Saint Andrew Parish  DM, Danvers  Massachusetts  US, Springfield  Massachusetts  US, Yarmouth  Massachusetts  US, Patras  Achaea  GR, Beverly  Massachusetts  US, Worcester  Massachusetts  US, New Bedford  Massachusetts  US, Santiago  Santiago Province  CL, Boston  Massachusetts  US\n",
      "$ ADDRESS             <str> 427 Balistreri Way Unit 19, 422 Farrell Path Unit 69, 1056 Harris Lane Suite 70, 999 Kuhn Forge, 1050 Lindgren Extension Apt 38, 888 Hickle Ferry Suite 38, 201 Mitchell Lodge Unit 67, 570 Abshire Forge Suite 32, 335 Morar Highlands Apt 75, 1048 Skiles Trailer\n",
      "$ CITY                <str> Chicopee, Somerville, Chicopee, Lowell, Boston, Springfield, Pembroke, Colrain, Fall River, Walpole\n",
      "$ STATE               <str> Massachusetts, Massachusetts, Massachusetts, Massachusetts, Massachusetts, Massachusetts, Massachusetts, Massachusetts, Massachusetts, Massachusetts\n",
      "$ COUNTY              <str> Hampden County, Middlesex County, Hampden County, Middlesex County, Suffolk County, Hampden County, Plymouth County, Franklin County, Bristol County, Norfolk County\n",
      "$ ZIP                 <i64> 1013, 2143, 1020, 1851, 2135, 1106, None, None, 2720, 2081\n",
      "$ LAT                 <f64> 42.22835382315942, 42.36069732777065, 42.181642300277424, 42.63614335069588, 42.35243426303177, 42.151961474963535, 42.07529152717956, 42.740219982868055, 41.68768444527544, 42.177370220648726\n",
      "$ LON                 <f64> -72.56295055096882, -71.12653095133149, -72.60884222581657, -71.3432549217789, -71.02861042115062, -72.59895940376188, -70.75703466334431, -72.72264767557297, -71.0557687821624, -71.28135315860652\n",
      "$ HEALTHCARE_EXPENSES <f64> 271227.08, 793946.01, 574111.9, 935630.3, 598763.07, 8718.66, 397548.14, 26400.0, 987310.04, 80155.36\n",
      "$ HEALTHCARE_COVERAGE <f64> 1334.8799999999999, 3204.49, 2606.3999999999996, 8756.189999999999, 3772.2, 1499.08, 3093.12, 774.9599999999999, 14166.009999999997, 1599.08\n",
      "\n"
     ]
    }
   ],
   "source": [
    "pl.read_csv('seeds/patients.csv').glimpse()"
   ]
  },
  {
   "cell_type": "markdown",
   "metadata": {},
   "source": [
    "## Edit filenames to have raw_ prefix"
   ]
  },
  {
   "cell_type": "code",
   "execution_count": 80,
   "metadata": {},
   "outputs": [
    {
     "name": "stdout",
     "output_type": "stream",
     "text": [
      "seeds\n"
     ]
    }
   ],
   "source": [
    "OUT_DIR=Path(\"seeds\")\n",
    "print(OUT_DIR)"
   ]
  },
  {
   "cell_type": "code",
   "execution_count": 35,
   "metadata": {},
   "outputs": [
    {
     "name": "stdout",
     "output_type": "stream",
     "text": [
      "medications.csv\n",
      "providers.csv\n",
      "payer_transitions.csv\n",
      "imaging_studies.csv\n",
      "supplies.csv\n",
      "payers.csv\n",
      "allergies.csv\n",
      "procedures.csv\n",
      "organizations.csv\n",
      "conditions.csv\n",
      "careplans.csv\n",
      "encounters.csv\n",
      "devices.csv\n",
      "immunizations.csv\n",
      "patients.csv\n",
      "observations.csv\n"
     ]
    }
   ],
   "source": [
    "for file in OUT_DIR.glob('*.csv'):\n",
    "    print(file)"
   ]
  },
  {
   "cell_type": "code",
   "execution_count": 74,
   "metadata": {},
   "outputs": [],
   "source": [
    "for file in OUT_DIR.glob('*.csv'):\n",
    "    new = Path(OUT_DIR.joinpath('raw_' + file.stem + file.suffix))\n",
    "    file.rename(new)"
   ]
  },
  {
   "cell_type": "code",
   "execution_count": 78,
   "metadata": {},
   "outputs": [
    {
     "name": "stdout",
     "output_type": "stream",
     "text": [
      "seeds/raw_providers.csv\n",
      "seeds/raw_imaging_studies.csv\n",
      "seeds/raw_observations.csv\n",
      "seeds/raw_immunizations.csv\n",
      "seeds/raw_patients.csv\n",
      "seeds/raw_encounters.csv\n",
      "seeds/raw_conditions.csv\n",
      "seeds/raw_allergies.csv\n",
      "seeds/raw_careplans.csv\n",
      "seeds/raw_medications.csv\n",
      "seeds/raw_supplies.csv\n",
      "seeds/raw_devices.csv\n",
      "seeds/raw_procedures.csv\n",
      "seeds/raw_payer_transitions.csv\n",
      "seeds/raw_payers.csv\n",
      "seeds/raw_organizations.csv\n"
     ]
    }
   ],
   "source": [
    "for file in OUT_DIR.glob('*.csv'):\n",
    "    print(file)"
   ]
  },
  {
   "cell_type": "code",
   "execution_count": 83,
   "metadata": {},
   "outputs": [
    {
     "data": {
      "text/plain": [
       "299697"
      ]
     },
     "execution_count": 83,
     "metadata": {},
     "output_type": "execute_result"
    }
   ],
   "source": [
    "pl.read_csv('seeds/raw_observations.csv').height"
   ]
  },
  {
   "cell_type": "code",
   "execution_count": null,
   "metadata": {},
   "outputs": [],
   "source": []
  },
  {
   "cell_type": "code",
   "execution_count": null,
   "metadata": {},
   "outputs": [],
   "source": []
  },
  {
   "cell_type": "markdown",
   "metadata": {},
   "source": [
    "# Check data types of columns"
   ]
  },
  {
   "cell_type": "code",
   "execution_count": 93,
   "metadata": {},
   "outputs": [
    {
     "name": "stdout",
     "output_type": "stream",
     "text": [
      "seeds/raw_providers.csv\n",
      "{'ADDRESS': Utf8,\n",
      " 'CITY': Utf8,\n",
      " 'GENDER': Utf8,\n",
      " 'Id': Utf8,\n",
      " 'LAT': Float64,\n",
      " 'LON': Float64,\n",
      " 'NAME': Utf8,\n",
      " 'ORGANIZATION': Utf8,\n",
      " 'SPECIALITY': Utf8,\n",
      " 'STATE': Utf8,\n",
      " 'UTILIZATION': Int64,\n",
      " 'ZIP': Utf8}\n",
      "seeds/raw_imaging_studies.csv\n",
      "{'BODYSITE_CODE': Int64,\n",
      " 'BODYSITE_DESCRIPTION': Utf8,\n",
      " 'DATE': Utf8,\n",
      " 'ENCOUNTER': Utf8,\n",
      " 'Id': Utf8,\n",
      " 'MODALITY_CODE': Utf8,\n",
      " 'MODALITY_DESCRIPTION': Utf8,\n",
      " 'PATIENT': Utf8,\n",
      " 'SOP_CODE': Utf8,\n",
      " 'SOP_DESCRIPTION': Utf8}\n",
      "seeds/raw_observations.csv\n",
      "{'CODE': Utf8,\n",
      " 'DATE': Utf8,\n",
      " 'DESCRIPTION': Utf8,\n",
      " 'ENCOUNTER': Utf8,\n",
      " 'PATIENT': Utf8,\n",
      " 'TYPE': Utf8,\n",
      " 'UNITS': Utf8,\n",
      " 'VALUE': Utf8}\n",
      "seeds/raw_immunizations.csv\n",
      "{'BASE_COST': Float64,\n",
      " 'CODE': Int64,\n",
      " 'DATE': Utf8,\n",
      " 'DESCRIPTION': Utf8,\n",
      " 'ENCOUNTER': Utf8,\n",
      " 'PATIENT': Utf8}\n",
      "seeds/raw_patients.csv\n",
      "{'ADDRESS': Utf8,\n",
      " 'BIRTHDATE': Utf8,\n",
      " 'BIRTHPLACE': Utf8,\n",
      " 'CITY': Utf8,\n",
      " 'COUNTY': Utf8,\n",
      " 'DEATHDATE': Utf8,\n",
      " 'DRIVERS': Utf8,\n",
      " 'ETHNICITY': Utf8,\n",
      " 'FIRST': Utf8,\n",
      " 'GENDER': Utf8,\n",
      " 'HEALTHCARE_COVERAGE': Float64,\n",
      " 'HEALTHCARE_EXPENSES': Float64,\n",
      " 'Id': Utf8,\n",
      " 'LAST': Utf8,\n",
      " 'LAT': Float64,\n",
      " 'LON': Float64,\n",
      " 'MAIDEN': Utf8,\n",
      " 'MARITAL': Utf8,\n",
      " 'PASSPORT': Utf8,\n",
      " 'PREFIX': Utf8,\n",
      " 'RACE': Utf8,\n",
      " 'SSN': Utf8,\n",
      " 'STATE': Utf8,\n",
      " 'SUFFIX': Utf8,\n",
      " 'ZIP': Int64}\n",
      "seeds/raw_encounters.csv\n",
      "{'BASE_ENCOUNTER_COST': Float64,\n",
      " 'CODE': Int64,\n",
      " 'DESCRIPTION': Utf8,\n",
      " 'ENCOUNTERCLASS': Utf8,\n",
      " 'Id': Utf8,\n",
      " 'ORGANIZATION': Utf8,\n",
      " 'PATIENT': Utf8,\n",
      " 'PAYER': Utf8,\n",
      " 'PAYER_COVERAGE': Float64,\n",
      " 'PROVIDER': Utf8,\n",
      " 'REASONCODE': Int64,\n",
      " 'REASONDESCRIPTION': Utf8,\n",
      " 'START': Utf8,\n",
      " 'STOP': Utf8,\n",
      " 'TOTAL_CLAIM_COST': Float64}\n",
      "seeds/raw_conditions.csv\n",
      "{'CODE': Int64,\n",
      " 'DESCRIPTION': Utf8,\n",
      " 'ENCOUNTER': Utf8,\n",
      " 'PATIENT': Utf8,\n",
      " 'START': Utf8,\n",
      " 'STOP': Utf8}\n",
      "seeds/raw_allergies.csv\n",
      "{'CODE': Int64,\n",
      " 'DESCRIPTION': Utf8,\n",
      " 'ENCOUNTER': Utf8,\n",
      " 'PATIENT': Utf8,\n",
      " 'START': Utf8,\n",
      " 'STOP': Utf8}\n",
      "seeds/raw_careplans.csv\n",
      "{'CODE': Int64,\n",
      " 'DESCRIPTION': Utf8,\n",
      " 'ENCOUNTER': Utf8,\n",
      " 'Id': Utf8,\n",
      " 'PATIENT': Utf8,\n",
      " 'REASONCODE': Int64,\n",
      " 'REASONDESCRIPTION': Utf8,\n",
      " 'START': Utf8,\n",
      " 'STOP': Utf8}\n",
      "seeds/raw_medications.csv\n",
      "{'BASE_COST': Float64,\n",
      " 'CODE': Int64,\n",
      " 'DESCRIPTION': Utf8,\n",
      " 'DISPENSES': Int64,\n",
      " 'ENCOUNTER': Utf8,\n",
      " 'PATIENT': Utf8,\n",
      " 'PAYER': Utf8,\n",
      " 'PAYER_COVERAGE': Float64,\n",
      " 'REASONCODE': Int64,\n",
      " 'REASONDESCRIPTION': Utf8,\n",
      " 'START': Utf8,\n",
      " 'STOP': Utf8,\n",
      " 'TOTALCOST': Float64}\n",
      "seeds/raw_supplies.csv\n",
      "{'CODE': Utf8,\n",
      " 'DATE': Utf8,\n",
      " 'DESCRIPTION': Utf8,\n",
      " 'ENCOUNTER': Utf8,\n",
      " 'PATIENT': Utf8,\n",
      " 'QUANTITY': Utf8}\n",
      "seeds/raw_devices.csv\n",
      "{'CODE': Int64,\n",
      " 'DESCRIPTION': Utf8,\n",
      " 'ENCOUNTER': Utf8,\n",
      " 'PATIENT': Utf8,\n",
      " 'START': Utf8,\n",
      " 'STOP': Utf8,\n",
      " 'UDI': Utf8}\n",
      "seeds/raw_procedures.csv\n",
      "{'BASE_COST': Float64,\n",
      " 'CODE': Int64,\n",
      " 'DATE': Utf8,\n",
      " 'DESCRIPTION': Utf8,\n",
      " 'ENCOUNTER': Utf8,\n",
      " 'PATIENT': Utf8,\n",
      " 'REASONCODE': Int64,\n",
      " 'REASONDESCRIPTION': Utf8}\n",
      "seeds/raw_payer_transitions.csv\n",
      "{'END_YEAR': Int64,\n",
      " 'OWNERSHIP': Utf8,\n",
      " 'PATIENT': Utf8,\n",
      " 'PAYER': Utf8,\n",
      " 'START_YEAR': Int64}\n",
      "seeds/raw_payers.csv\n",
      "{'ADDRESS': Utf8,\n",
      " 'AMOUNT_COVERED': Float64,\n",
      " 'AMOUNT_UNCOVERED': Float64,\n",
      " 'CITY': Utf8,\n",
      " 'COVERED_ENCOUNTERS': Int64,\n",
      " 'COVERED_IMMUNIZATIONS': Int64,\n",
      " 'COVERED_MEDICATIONS': Int64,\n",
      " 'COVERED_PROCEDURES': Int64,\n",
      " 'Id': Utf8,\n",
      " 'MEMBER_MONTHS': Int64,\n",
      " 'NAME': Utf8,\n",
      " 'PHONE': Utf8,\n",
      " 'QOLS_AVG': Float64,\n",
      " 'REVENUE': Float64,\n",
      " 'STATE_HEADQUARTERED': Utf8,\n",
      " 'UNCOVERED_ENCOUNTERS': Int64,\n",
      " 'UNCOVERED_IMMUNIZATIONS': Int64,\n",
      " 'UNCOVERED_MEDICATIONS': Int64,\n",
      " 'UNCOVERED_PROCEDURES': Int64,\n",
      " 'UNIQUE_CUSTOMERS': Int64,\n",
      " 'ZIP': Int64}\n",
      "seeds/raw_organizations.csv\n",
      "{'ADDRESS': Utf8,\n",
      " 'CITY': Utf8,\n",
      " 'Id': Utf8,\n",
      " 'LAT': Float64,\n",
      " 'LON': Float64,\n",
      " 'NAME': Utf8,\n",
      " 'PHONE': Utf8,\n",
      " 'REVENUE': Float64,\n",
      " 'STATE': Utf8,\n",
      " 'UTILIZATION': Int64,\n",
      " 'ZIP': Utf8}\n"
     ]
    }
   ],
   "source": [
    "for file in Path('seeds').glob('*.csv'):\n",
    "    print(file)\n",
    "    #print(pl.scan_csv(file, with_column_names=lambda cols: [col.lower() for col in cols]).columns)\n",
    "    #print(pl.scan_csv(file).dtypes)\n",
    "    pprint(pl.scan_csv(file).schema)"
   ]
  },
  {
   "cell_type": "code",
   "execution_count": null,
   "metadata": {},
   "outputs": [],
   "source": []
  },
  {
   "cell_type": "code",
   "execution_count": null,
   "metadata": {},
   "outputs": [],
   "source": []
  },
  {
   "cell_type": "code",
   "execution_count": null,
   "metadata": {},
   "outputs": [],
   "source": []
  },
  {
   "cell_type": "code",
   "execution_count": null,
   "metadata": {},
   "outputs": [],
   "source": []
  },
  {
   "cell_type": "markdown",
   "metadata": {},
   "source": [
    "## Create parquet files out of CSV after lowercasing column names"
   ]
  },
  {
   "cell_type": "code",
   "execution_count": 6,
   "metadata": {},
   "outputs": [],
   "source": [
    "# for file in os.listdir('seeds'):\n",
    "#     path = os.path.join('seeds', file)\n",
    "#     pl.scan_csv(path, with_column_names=lambda cols: [col.lower() for col in cols]).collect().write_parquet(path.replace('.csv', '.parquet'))"
   ]
  },
  {
   "cell_type": "code",
   "execution_count": 7,
   "metadata": {},
   "outputs": [
    {
     "name": "stdout",
     "output_type": "stream",
     "text": [
      "total 192856\n",
      "-rw-r--r--@ 1 zacklarsen  staff    68K Apr 28  2020 allergies.csv\n",
      "-rw-r--r--  1 zacklarsen  staff    11K Aug 20 09:47 allergies.parquet\n",
      "-rw-r--r--@ 1 zacklarsen  staff   657K Apr 28  2020 careplans.csv\n",
      "-rw-r--r--  1 zacklarsen  staff   208K Aug 20 09:47 careplans.parquet\n",
      "-rw-r--r--@ 1 zacklarsen  staff   1.0M Apr 28  2020 conditions.csv\n",
      "-rw-r--r--  1 zacklarsen  staff   260K Aug 20 09:47 conditions.parquet\n",
      "-rw-r--r--@ 1 zacklarsen  staff    17K Apr 28  2020 devices.csv\n",
      "-rw-r--r--  1 zacklarsen  staff   8.0K Aug 20 09:47 devices.parquet\n",
      "-rw-r--r--@ 1 zacklarsen  staff    16M Apr 28  2020 encounters.csv\n",
      "-rw-r--r--  1 zacklarsen  staff   1.9M Aug 20 09:47 encounters.parquet\n",
      "-rw-r--r--@ 1 zacklarsen  staff   201K Apr 28  2020 imaging_studies.csv\n",
      "-rw-r--r--  1 zacklarsen  staff    49K Aug 20 09:47 imaging_studies.parquet\n",
      "-rw-r--r--@ 1 zacklarsen  staff   2.1M Apr 28  2020 immunizations.csv\n",
      "-rw-r--r--  1 zacklarsen  staff   321K Aug 20 09:47 immunizations.parquet\n",
      "-rw-r--r--@ 1 zacklarsen  staff    10M Apr 28  2020 medications.csv\n",
      "-rw-r--r--  1 zacklarsen  staff   1.2M Aug 20 09:47 medications.parquet\n",
      "-rw-r--r--@ 1 zacklarsen  staff    41M Apr 28  2020 observations.csv\n",
      "-rw-r--r--  1 zacklarsen  staff   1.8M Aug 20 09:47 observations.parquet\n",
      "-rw-r--r--@ 1 zacklarsen  staff   166K Apr 28  2020 organizations.csv\n",
      "-rw-r--r--  1 zacklarsen  staff    67K Aug 20 09:47 organizations.parquet\n",
      "-rw-r--r--@ 1 zacklarsen  staff   325K Apr 28  2020 patients.csv\n",
      "-rw-r--r--  1 zacklarsen  staff   118K Aug 20 09:47 patients.parquet\n",
      "-rw-r--r--@ 1 zacklarsen  staff   333K Apr 28  2020 payer_transitions.csv\n",
      "-rw-r--r--  1 zacklarsen  staff    38K Aug 20 09:47 payer_transitions.parquet\n",
      "-rw-r--r--@ 1 zacklarsen  staff   2.1K Apr 28  2020 payers.csv\n",
      "-rw-r--r--  1 zacklarsen  staff   6.8K Aug 20 09:47 payers.parquet\n",
      "-rw-r--r--@ 1 zacklarsen  staff   5.4M Apr 28  2020 procedures.csv\n",
      "-rw-r--r--  1 zacklarsen  staff   769K Aug 20 09:47 procedures.parquet\n",
      "-rw-r--r--@ 1 zacklarsen  staff   1.0M Apr 28  2020 providers.csv\n",
      "-rw-r--r--  1 zacklarsen  staff   244K Aug 20 09:47 providers.parquet\n",
      "-rw-r--r--@ 1 zacklarsen  staff    49B Apr 28  2020 supplies.csv\n",
      "-rw-r--r--  1 zacklarsen  staff   817B Aug 20 09:47 supplies.parquet\n",
      "-rw-r--r--@ 1 zacklarsen  staff   8.6M Aug 20 08:39 synthea_sample_data_csv_apr2020.zip\n"
     ]
    }
   ],
   "source": [
    "ls -lh seeds/"
   ]
  },
  {
   "cell_type": "code",
   "execution_count": 8,
   "metadata": {},
   "outputs": [
    {
     "name": "stdout",
     "output_type": "stream",
     "text": [
      "Rows: 1171\n",
      "Columns: 25\n",
      "$ id                  <str> 1d604da9-9a81-4ba9-80c2-de3375d59b40, 034e9e3b-2def-4559-bb2a-7850888ae060, 10339b10-3cd1-4ac3-ac13-ec26728cb592, 8d4c4326-e9de-4f45-9a4c-f8c36bff89ae, f5dcd418-09fe-4a2f-baa0-3da800bd8c3a, 72c0b9ce-7aa4-430b-aaff-bd0ce7846e55, b1e9b0b9-da6e-4f68-b603-bd896a50ca86, 01207ecd-9dff-4754-8887-4652eda231e2, b58731cc-2d8b-4c2d-b327-4cab771af3ef, cfee79fc-df05-476e-b274-43e09ea345db\n",
      "$ birthdate           <str> 1989-05-25, 1983-11-14, 1992-06-02, 1978-05-27, 1996-10-18, 2017-07-27, 2003-12-13, 2019-05-15, 1970-05-16, 2016-07-04\n",
      "$ deathdate           <str> None, None, None, None, None, None, None, None, None, None\n",
      "$ ssn                 <str> 999-76-6866, 999-73-5361, 999-27-3385, 999-85-4926, 999-60-7372, 999-68-6630, 999-73-2461, 999-81-4349, 999-90-2484, 999-15-5895\n",
      "$ drivers             <str> S99984236, S99962402, S99972682, S99974448, S99915787, None, S99954048, None, S99978036, None\n",
      "$ passport            <str> X19277260X, X88275464X, X73754411X, X40915583X, X86772962X, None, None, None, X78170348X, None\n",
      "$ prefix              <str> Mr., Mr., Mr., Mrs., Mr., None, None, None, Mrs., None\n",
      "$ first               <str> José Eduardo181, Milo271, Jayson808, Mariana775, Gregorio366, Jacinto644, Jimmie93, Karyn217, Isabel214, Alva958\n",
      "$ last                <str> Gómez206, Feil794, Fadel536, Rutherford999, Auer97, Kris249, Harris789, Mueller846, Lucio648, Krajcik437\n",
      "$ suffix              <str> None, None, None, None, None, None, None, None, None, None\n",
      "$ maiden              <str> None, None, None, Williamson769, None, None, None, None, Carvajal694, None\n",
      "$ marital             <str> M, M, M, M, None, None, None, None, M, None\n",
      "$ race                <str> white, white, white, white, white, white, white, white, white, white\n",
      "$ ethnicity           <str> hispanic, nonhispanic, nonhispanic, nonhispanic, nonhispanic, nonhispanic, nonhispanic, nonhispanic, hispanic, nonhispanic\n",
      "$ gender              <str> M, M, M, F, M, M, F, F, F, F\n",
      "$ birthplace          <str> Marigot  Saint Andrew Parish  DM, Danvers  Massachusetts  US, Springfield  Massachusetts  US, Yarmouth  Massachusetts  US, Patras  Achaea  GR, Beverly  Massachusetts  US, Worcester  Massachusetts  US, New Bedford  Massachusetts  US, Santiago  Santiago Province  CL, Boston  Massachusetts  US\n",
      "$ address             <str> 427 Balistreri Way Unit 19, 422 Farrell Path Unit 69, 1056 Harris Lane Suite 70, 999 Kuhn Forge, 1050 Lindgren Extension Apt 38, 888 Hickle Ferry Suite 38, 201 Mitchell Lodge Unit 67, 570 Abshire Forge Suite 32, 335 Morar Highlands Apt 75, 1048 Skiles Trailer\n",
      "$ city                <str> Chicopee, Somerville, Chicopee, Lowell, Boston, Springfield, Pembroke, Colrain, Fall River, Walpole\n",
      "$ state               <str> Massachusetts, Massachusetts, Massachusetts, Massachusetts, Massachusetts, Massachusetts, Massachusetts, Massachusetts, Massachusetts, Massachusetts\n",
      "$ county              <str> Hampden County, Middlesex County, Hampden County, Middlesex County, Suffolk County, Hampden County, Plymouth County, Franklin County, Bristol County, Norfolk County\n",
      "$ zip                 <i64> 1013, 2143, 1020, 1851, 2135, 1106, None, None, 2720, 2081\n",
      "$ lat                 <f64> 42.22835382315942, 42.36069732777065, 42.181642300277424, 42.63614335069588, 42.35243426303177, 42.151961474963535, 42.07529152717956, 42.740219982868055, 41.68768444527544, 42.177370220648726\n",
      "$ lon                 <f64> -72.56295055096882, -71.12653095133149, -72.60884222581657, -71.3432549217789, -71.02861042115062, -72.59895940376188, -70.75703466334431, -72.72264767557297, -71.0557687821624, -71.28135315860652\n",
      "$ healthcare_expenses <f64> 271227.08, 793946.01, 574111.9, 935630.3, 598763.07, 8718.66, 397548.14, 26400.0, 987310.04, 80155.36\n",
      "$ healthcare_coverage <f64> 1334.8799999999999, 3204.49, 2606.3999999999996, 8756.189999999999, 3772.2, 1499.08, 3093.12, 774.9599999999999, 14166.009999999997, 1599.08\n",
      "\n"
     ]
    }
   ],
   "source": [
    "pl.scan_parquet('seeds/patients.parquet').collect().glimpse()"
   ]
  },
  {
   "cell_type": "code",
   "execution_count": null,
   "metadata": {},
   "outputs": [],
   "source": []
  },
  {
   "cell_type": "code",
   "execution_count": null,
   "metadata": {},
   "outputs": [],
   "source": []
  },
  {
   "cell_type": "code",
   "execution_count": 9,
   "metadata": {},
   "outputs": [
    {
     "data": {
      "text/plain": [
       "┌──────────────────────┬────────────┬───────────┬───┬────────────────────┬─────────────────────┬─────────────────────┐\n",
       "│          Id          │ BIRTHDATE  │ DEATHDATE │ … │        LON         │ HEALTHCARE_EXPENSES │ HEALTHCARE_COVERAGE │\n",
       "│       varchar        │    date    │   date    │   │       double       │       double        │       double        │\n",
       "├──────────────────────┼────────────┼───────────┼───┼────────────────────┼─────────────────────┼─────────────────────┤\n",
       "│ 1d604da9-9a81-4ba9…  │ 1989-05-25 │ NULL      │ … │ -72.56295055096882 │           271227.08 │  1334.8799999999999 │\n",
       "│ 034e9e3b-2def-4559…  │ 1983-11-14 │ NULL      │ … │ -71.12653095133149 │           793946.01 │             3204.49 │\n",
       "├──────────────────────┴────────────┴───────────┴───┴────────────────────┴─────────────────────┴─────────────────────┤\n",
       "│ 2 rows                                                                                        25 columns (6 shown) │\n",
       "└────────────────────────────────────────────────────────────────────────────────────────────────────────────────────┘"
      ]
     },
     "execution_count": 9,
     "metadata": {},
     "output_type": "execute_result"
    }
   ],
   "source": [
    "duckdb.read_csv('seeds/patients.csv').limit(2)"
   ]
  },
  {
   "cell_type": "code",
   "execution_count": 10,
   "metadata": {},
   "outputs": [
    {
     "data": {
      "text/plain": [
       "┌──────────────────────┬────────────┬───────────┬───┬────────────────────┬─────────────────────┬─────────────────────┐\n",
       "│          id          │ birthdate  │ deathdate │ … │        lon         │ healthcare_expenses │ healthcare_coverage │\n",
       "│       varchar        │  varchar   │  varchar  │   │       double       │       double        │       double        │\n",
       "├──────────────────────┼────────────┼───────────┼───┼────────────────────┼─────────────────────┼─────────────────────┤\n",
       "│ 1d604da9-9a81-4ba9…  │ 1989-05-25 │ NULL      │ … │ -72.56295055096882 │           271227.08 │  1334.8799999999999 │\n",
       "│ 034e9e3b-2def-4559…  │ 1983-11-14 │ NULL      │ … │ -71.12653095133149 │           793946.01 │             3204.49 │\n",
       "├──────────────────────┴────────────┴───────────┴───┴────────────────────┴─────────────────────┴─────────────────────┤\n",
       "│ 2 rows                                                                                        25 columns (6 shown) │\n",
       "└────────────────────────────────────────────────────────────────────────────────────────────────────────────────────┘"
      ]
     },
     "execution_count": 10,
     "metadata": {},
     "output_type": "execute_result"
    }
   ],
   "source": [
    "duckdb.read_parquet('seeds/patients.parquet').limit(2)"
   ]
  },
  {
   "cell_type": "code",
   "execution_count": null,
   "metadata": {},
   "outputs": [],
   "source": []
  },
  {
   "cell_type": "code",
   "execution_count": null,
   "metadata": {},
   "outputs": [],
   "source": []
  },
  {
   "cell_type": "code",
   "execution_count": null,
   "metadata": {},
   "outputs": [],
   "source": []
  },
  {
   "cell_type": "markdown",
   "metadata": {},
   "source": [
    "## Create tables in database"
   ]
  },
  {
   "cell_type": "code",
   "execution_count": 11,
   "metadata": {},
   "outputs": [
    {
     "name": "stdout",
     "output_type": "stream",
     "text": [
      "medications\n",
      "providers\n",
      "observations\n",
      "allergies\n",
      "procedures\n",
      "payer_transitions\n",
      "imaging_studies\n",
      "supplies\n",
      "payers\n",
      "patients\n",
      "conditions\n",
      "organizations\n",
      "allergies\n",
      "supplies\n",
      "procedures\n",
      "imaging_studies\n",
      "organizations\n",
      "immunizations\n",
      "conditions\n",
      "careplans\n",
      "encounters\n",
      "encounters\n",
      "devices\n",
      "synthea_sample_data_csv_apr2020.zip\n",
      "immunizations\n",
      "devices\n",
      "payers\n",
      "patients\n",
      "medications\n",
      "careplans\n",
      "payer_transitions\n",
      "providers\n",
      "observations\n"
     ]
    }
   ],
   "source": [
    "for file in os.listdir('seeds'):\n",
    "    print(file.replace('.csv', '').replace('.parquet', ''))"
   ]
  },
  {
   "cell_type": "code",
   "execution_count": 103,
   "metadata": {},
   "outputs": [],
   "source": [
    "# create a connection\n",
    "con = duckdb.connect('synthea.duckdb')"
   ]
  },
  {
   "cell_type": "code",
   "execution_count": 104,
   "metadata": {},
   "outputs": [],
   "source": [
    "seed_path = Path('./seeds/')\n",
    "\n",
    "for parquet_file in seed_path.glob('*.parquet'):\n",
    "    con.sql(\n",
    "        f\"\"\"\n",
    "        CREATE TABLE IF NOT EXISTS raw_{parquet_file.stem} AS \n",
    "        SELECT * FROM read_parquet('{parquet_file}');\n",
    "        \"\"\"\n",
    "    )"
   ]
  },
  {
   "cell_type": "code",
   "execution_count": 105,
   "metadata": {},
   "outputs": [
    {
     "data": {
      "text/plain": [
       "┌───────────────────────┐\n",
       "│         name          │\n",
       "│        varchar        │\n",
       "├───────────────────────┤\n",
       "│ raw_allergies         │\n",
       "│ raw_careplans         │\n",
       "│ raw_conditions        │\n",
       "│ raw_devices           │\n",
       "│ raw_encounters        │\n",
       "│ raw_imaging_studies   │\n",
       "│ raw_immunizations     │\n",
       "│ raw_medications       │\n",
       "│ raw_observations      │\n",
       "│ raw_organizations     │\n",
       "│ raw_patients          │\n",
       "│ raw_payer_transitions │\n",
       "│ raw_payers            │\n",
       "│ raw_procedures        │\n",
       "│ raw_providers         │\n",
       "│ raw_supplies          │\n",
       "├───────────────────────┤\n",
       "│        16 rows        │\n",
       "└───────────────────────┘"
      ]
     },
     "execution_count": 105,
     "metadata": {},
     "output_type": "execute_result"
    }
   ],
   "source": [
    "con.sql('SHOW TABLES')"
   ]
  },
  {
   "cell_type": "code",
   "execution_count": 15,
   "metadata": {},
   "outputs": [
    {
     "name": "stdout",
     "output_type": "stream",
     "text": [
      "Rows: 2\n",
      "Columns: 25\n",
      "$ id                  <str> 1d604da9-9a81-4ba9-80c2-de3375d59b40, 034e9e3b-2def-4559-bb2a-7850888ae060\n",
      "$ birthdate           <str> 1989-05-25, 1983-11-14\n",
      "$ deathdate           <str> None, None\n",
      "$ ssn                 <str> 999-76-6866, 999-73-5361\n",
      "$ drivers             <str> S99984236, S99962402\n",
      "$ passport            <str> X19277260X, X88275464X\n",
      "$ prefix              <str> Mr., Mr.\n",
      "$ first               <str> José Eduardo181, Milo271\n",
      "$ last                <str> Gómez206, Feil794\n",
      "$ suffix              <str> None, None\n",
      "$ maiden              <str> None, None\n",
      "$ marital             <str> M, M\n",
      "$ race                <str> white, white\n",
      "$ ethnicity           <str> hispanic, nonhispanic\n",
      "$ gender              <str> M, M\n",
      "$ birthplace          <str> Marigot  Saint Andrew Parish  DM, Danvers  Massachusetts  US\n",
      "$ address             <str> 427 Balistreri Way Unit 19, 422 Farrell Path Unit 69\n",
      "$ city                <str> Chicopee, Somerville\n",
      "$ state               <str> Massachusetts, Massachusetts\n",
      "$ county              <str> Hampden County, Middlesex County\n",
      "$ zip                 <i64> 1013, 2143\n",
      "$ lat                 <f64> 42.22835382315942, 42.36069732777065\n",
      "$ lon                 <f64> -72.56295055096882, -71.12653095133149\n",
      "$ healthcare_expenses <f64> 271227.08, 793946.01\n",
      "$ healthcare_coverage <f64> 1334.8799999999999, 3204.49\n",
      "\n"
     ]
    }
   ],
   "source": [
    "con.sql('SELECT * FROM patients LIMIT 2').pl().glimpse()"
   ]
  },
  {
   "cell_type": "code",
   "execution_count": 16,
   "metadata": {},
   "outputs": [
    {
     "name": "stdout",
     "output_type": "stream",
     "text": [
      "Rows: 2\n",
      "Columns: 15\n",
      "$ id                  <str> d0c40d10-8d87-447e-836e-99d26ad52ea5, e88bc3a9-007c-405e-aabc-792a38f4aa2b\n",
      "$ start               <str> 2010-01-23T17:45:28Z, 2012-01-23T17:45:28Z\n",
      "$ stop                <str> 2010-01-23T18:10:28Z, 2012-01-23T18:00:28Z\n",
      "$ patient             <str> 034e9e3b-2def-4559-bb2a-7850888ae060, 034e9e3b-2def-4559-bb2a-7850888ae060\n",
      "$ organization        <str> e002090d-4e92-300e-b41e-7d1f21dee4c6, 772ee193-bb9f-30eb-9939-21e86c8e4da5\n",
      "$ provider            <str> e6283e46-fd81-3611-9459-0edb1c3da357, 6f1d59a7-a5bd-3cf9-9671-5bad2f351c28\n",
      "$ payer               <str> 6e2f1a2d-27bd-3701-8d08-dae202c58632, 6e2f1a2d-27bd-3701-8d08-dae202c58632\n",
      "$ encounterclass      <str> ambulatory, wellness\n",
      "$ code                <i64> 185345009, 162673000\n",
      "$ description         <str> Encounter for symptom, General examination of patient (procedure)\n",
      "$ base_encounter_cost <f64> 129.16, 129.16\n",
      "$ total_claim_cost    <f64> 129.16, 129.16\n",
      "$ payer_coverage      <f64> 54.16, 129.16\n",
      "$ reasoncode          <i64> 10509002, None\n",
      "$ reasondescription   <str> Acute bronchitis (disorder), None\n",
      "\n"
     ]
    }
   ],
   "source": [
    "con.sql('SELECT * FROM encounters LIMIT 2').pl().glimpse()"
   ]
  },
  {
   "cell_type": "code",
   "execution_count": 17,
   "metadata": {},
   "outputs": [
    {
     "name": "stdout",
     "output_type": "stream",
     "text": [
      "Rows: 2\n",
      "Columns: 13\n",
      "$ start             <str> 2010-05-05T00:26:23Z, 2011-04-30T00:26:23Z\n",
      "$ stop              <str> 2011-04-30T00:26:23Z, 2012-04-24T00:26:23Z\n",
      "$ patient           <str> 8d4c4326-e9de-4f45-9a4c-f8c36bff89ae, 8d4c4326-e9de-4f45-9a4c-f8c36bff89ae\n",
      "$ payer             <str> b1c428d6-4f07-31e0-90f0-68ffa6ff8c76, b1c428d6-4f07-31e0-90f0-68ffa6ff8c76\n",
      "$ encounter         <str> 1e0d6b0e-1711-4a25-99f9-b1c700c9b260, 6aa37300-d1b4-48e7-a2f8-5e0f70f48f38\n",
      "$ code              <i64> 389221, 389221\n",
      "$ description       <str> Etonogestrel 68 MG Drug Implant, Etonogestrel 68 MG Drug Implant\n",
      "$ base_cost         <f64> 677.08, 624.09\n",
      "$ payer_coverage    <f64> 0.0, 0.0\n",
      "$ dispenses         <i64> 12, 12\n",
      "$ totalcost         <f64> 8124.96, 7489.08\n",
      "$ reasoncode        <i64> None, None\n",
      "$ reasondescription <str> None, None\n",
      "\n"
     ]
    }
   ],
   "source": [
    "con.sql('SELECT * FROM medications LIMIT 2').pl().glimpse()"
   ]
  },
  {
   "cell_type": "code",
   "execution_count": 18,
   "metadata": {},
   "outputs": [
    {
     "data": {
      "text/html": [
       "<div><style>\n",
       ".dataframe > thead > tr > th,\n",
       ".dataframe > tbody > tr > td {\n",
       "  text-align: right;\n",
       "}\n",
       "</style>\n",
       "<small>shape: (3, 7)</small><table border=\"1\" class=\"dataframe\"><thead><tr><th>patient_id</th><th>patient_gender</th><th>patient_birthdate</th><th>encounter_id</th><th>encounter_class</th><th>medication_code</th><th>medication_description</th></tr><tr><td>str</td><td>str</td><td>str</td><td>str</td><td>str</td><td>i64</td><td>str</td></tr></thead><tbody><tr><td>&quot;8d4c4326-e9de-…</td><td>&quot;F&quot;</td><td>&quot;1978-05-27&quot;</td><td>&quot;1e0d6b0e-1711-…</td><td>&quot;outpatient&quot;</td><td>389221</td><td>&quot;Etonogestrel 6…</td></tr><tr><td>&quot;8d4c4326-e9de-…</td><td>&quot;F&quot;</td><td>&quot;1978-05-27&quot;</td><td>&quot;6aa37300-d1b4-…</td><td>&quot;outpatient&quot;</td><td>389221</td><td>&quot;Etonogestrel 6…</td></tr><tr><td>&quot;8d4c4326-e9de-…</td><td>&quot;F&quot;</td><td>&quot;1978-05-27&quot;</td><td>&quot;7253a9f9-6f6d-…</td><td>&quot;outpatient&quot;</td><td>748856</td><td>&quot;Yaz 28 Day Pac…</td></tr></tbody></table></div>"
      ],
      "text/plain": [
       "shape: (3, 7)\n",
       "┌──────────────┬─────────────┬─────────────┬─────────────┬─────────────┬─────────────┬─────────────┐\n",
       "│ patient_id   ┆ patient_gen ┆ patient_bir ┆ encounter_i ┆ encounter_c ┆ medication_ ┆ medication_ │\n",
       "│ ---          ┆ der         ┆ thdate      ┆ d           ┆ lass        ┆ code        ┆ description │\n",
       "│ str          ┆ ---         ┆ ---         ┆ ---         ┆ ---         ┆ ---         ┆ ---         │\n",
       "│              ┆ str         ┆ str         ┆ str         ┆ str         ┆ i64         ┆ str         │\n",
       "╞══════════════╪═════════════╪═════════════╪═════════════╪═════════════╪═════════════╪═════════════╡\n",
       "│ 8d4c4326-e9d ┆ F           ┆ 1978-05-27  ┆ 1e0d6b0e-17 ┆ outpatient  ┆ 389221      ┆ Etonogestre │\n",
       "│ e-4f45-9a4c- ┆             ┆             ┆ 11-4a25-99f ┆             ┆             ┆ l 68 MG     │\n",
       "│ f8c36bff…    ┆             ┆             ┆ 9-b1c700c9… ┆             ┆             ┆ Drug        │\n",
       "│              ┆             ┆             ┆             ┆             ┆             ┆ Implant     │\n",
       "│ 8d4c4326-e9d ┆ F           ┆ 1978-05-27  ┆ 6aa37300-d1 ┆ outpatient  ┆ 389221      ┆ Etonogestre │\n",
       "│ e-4f45-9a4c- ┆             ┆             ┆ b4-48e7-a2f ┆             ┆             ┆ l 68 MG     │\n",
       "│ f8c36bff…    ┆             ┆             ┆ 8-5e0f70f4… ┆             ┆             ┆ Drug        │\n",
       "│              ┆             ┆             ┆             ┆             ┆             ┆ Implant     │\n",
       "│ 8d4c4326-e9d ┆ F           ┆ 1978-05-27  ┆ 7253a9f9-6f ┆ outpatient  ┆ 748856      ┆ Yaz 28 Day  │\n",
       "│ e-4f45-9a4c- ┆             ┆             ┆ 6d-429a-926 ┆             ┆             ┆ Pack        │\n",
       "│ f8c36bff…    ┆             ┆             ┆ a-7b1d424e… ┆             ┆             ┆             │\n",
       "└──────────────┴─────────────┴─────────────┴─────────────┴─────────────┴─────────────┴─────────────┘"
      ]
     },
     "execution_count": 18,
     "metadata": {},
     "output_type": "execute_result"
    }
   ],
   "source": [
    "con.sql(\"\"\"\n",
    "SELECT \n",
    "    p.id AS patient_id,\n",
    "    p.gender AS patient_gender,\n",
    "    p.birthdate AS patient_birthdate,\n",
    "    e.id AS encounter_id,\n",
    "    e.encounterclass AS encounter_class,\n",
    "    m.code AS medication_code,\n",
    "    m.description AS medication_description\n",
    "FROM patients p\n",
    "JOIN encounters e\n",
    "    ON p.id = e.patient\n",
    "JOIN medications m\n",
    "    ON e.id = m.encounter\n",
    "WHERE p.gender = 'F'\n",
    "LIMIT 3\n",
    "\"\"\").pl()"
   ]
  },
  {
   "cell_type": "code",
   "execution_count": null,
   "metadata": {},
   "outputs": [],
   "source": []
  },
  {
   "cell_type": "code",
   "execution_count": 19,
   "metadata": {},
   "outputs": [
    {
     "data": {
      "text/plain": [
       "┌──────────────────────┬────────────┬────────────┬───┬───────────────────┬─────────────────────┬─────────────────────┐\n",
       "│       patient        │ birth_date │ death_date │ … │        lat        │ healthcare_expenses │ healthcare_coverage │\n",
       "│       varchar        │  varchar   │  varchar   │   │      double       │       double        │       double        │\n",
       "├──────────────────────┼────────────┼────────────┼───┼───────────────────┼─────────────────────┼─────────────────────┤\n",
       "│ 1d604da9-9a81-4ba9…  │ 1989-05-25 │ NULL       │ … │ 42.22835382315942 │           271227.08 │             1334.88 │\n",
       "│ 034e9e3b-2def-4559…  │ 1983-11-14 │ NULL       │ … │ 42.36069732777065 │           793946.01 │             3204.49 │\n",
       "├──────────────────────┴────────────┴────────────┴───┴───────────────────┴─────────────────────┴─────────────────────┤\n",
       "│ 2 rows                                                                                         7 columns (6 shown) │\n",
       "└────────────────────────────────────────────────────────────────────────────────────────────────────────────────────┘"
      ]
     },
     "execution_count": 19,
     "metadata": {},
     "output_type": "execute_result"
    }
   ],
   "source": [
    "con.sql(\"\"\"\n",
    "    SELECT\n",
    "    id AS patient,\n",
    "    birthdate AS birth_date,\n",
    "    deathdate AS death_date,\n",
    "    lon,\n",
    "    lat,\n",
    "    ROUND(healthcare_expenses, 2) AS healthcare_expenses,\n",
    "    ROUND(healthcare_coverage, 2) AS healthcare_coverage\n",
    "    FROM patients \n",
    "    LIMIT 2\n",
    "\"\"\")"
   ]
  },
  {
   "cell_type": "code",
   "execution_count": 20,
   "metadata": {},
   "outputs": [
    {
     "data": {
      "text/html": [
       "<div><style>\n",
       ".dataframe > thead > tr > th,\n",
       ".dataframe > tbody > tr > td {\n",
       "  text-align: right;\n",
       "}\n",
       "</style>\n",
       "<small>shape: (2, 25)</small><table border=\"1\" class=\"dataframe\"><thead><tr><th>id</th><th>birthdate</th><th>deathdate</th><th>ssn</th><th>drivers</th><th>passport</th><th>prefix</th><th>first</th><th>last</th><th>suffix</th><th>maiden</th><th>marital</th><th>race</th><th>ethnicity</th><th>gender</th><th>birthplace</th><th>address</th><th>city</th><th>state</th><th>county</th><th>zip</th><th>lat</th><th>lon</th><th>healthcare_expenses</th><th>healthcare_coverage</th></tr><tr><td>str</td><td>str</td><td>str</td><td>str</td><td>str</td><td>str</td><td>str</td><td>str</td><td>str</td><td>str</td><td>str</td><td>str</td><td>str</td><td>str</td><td>str</td><td>str</td><td>str</td><td>str</td><td>str</td><td>str</td><td>i64</td><td>f64</td><td>f64</td><td>f64</td><td>f64</td></tr></thead><tbody><tr><td>&quot;1d604da9-9a81-…</td><td>&quot;1989-05-25&quot;</td><td>null</td><td>&quot;999-76-6866&quot;</td><td>&quot;S99984236&quot;</td><td>&quot;X19277260X&quot;</td><td>&quot;Mr.&quot;</td><td>&quot;José Eduardo18…</td><td>&quot;Gómez206&quot;</td><td>null</td><td>null</td><td>&quot;M&quot;</td><td>&quot;white&quot;</td><td>&quot;hispanic&quot;</td><td>&quot;M&quot;</td><td>&quot;Marigot  Saint…</td><td>&quot;427 Balistreri…</td><td>&quot;Chicopee&quot;</td><td>&quot;Massachusetts&quot;</td><td>&quot;Hampden County…</td><td>1013</td><td>42.228354</td><td>-72.562951</td><td>271227.08</td><td>1334.88</td></tr><tr><td>&quot;034e9e3b-2def-…</td><td>&quot;1983-11-14&quot;</td><td>null</td><td>&quot;999-73-5361&quot;</td><td>&quot;S99962402&quot;</td><td>&quot;X88275464X&quot;</td><td>&quot;Mr.&quot;</td><td>&quot;Milo271&quot;</td><td>&quot;Feil794&quot;</td><td>null</td><td>null</td><td>&quot;M&quot;</td><td>&quot;white&quot;</td><td>&quot;nonhispanic&quot;</td><td>&quot;M&quot;</td><td>&quot;Danvers  Massa…</td><td>&quot;422 Farrell Pa…</td><td>&quot;Somerville&quot;</td><td>&quot;Massachusetts&quot;</td><td>&quot;Middlesex Coun…</td><td>2143</td><td>42.360697</td><td>-71.126531</td><td>793946.01</td><td>3204.49</td></tr></tbody></table></div>"
      ],
      "text/plain": [
       "shape: (2, 25)\n",
       "┌───────────┬───────────┬───────────┬───────────┬───┬───────────┬───────────┬───────────┬──────────┐\n",
       "│ id        ┆ birthdate ┆ deathdate ┆ ssn       ┆ … ┆ lat       ┆ lon       ┆ healthcar ┆ healthca │\n",
       "│ ---       ┆ ---       ┆ ---       ┆ ---       ┆   ┆ ---       ┆ ---       ┆ e_expense ┆ re_cover │\n",
       "│ str       ┆ str       ┆ str       ┆ str       ┆   ┆ f64       ┆ f64       ┆ s         ┆ age      │\n",
       "│           ┆           ┆           ┆           ┆   ┆           ┆           ┆ ---       ┆ ---      │\n",
       "│           ┆           ┆           ┆           ┆   ┆           ┆           ┆ f64       ┆ f64      │\n",
       "╞═══════════╪═══════════╪═══════════╪═══════════╪═══╪═══════════╪═══════════╪═══════════╪══════════╡\n",
       "│ 1d604da9- ┆ 1989-05-2 ┆ null      ┆ 999-76-68 ┆ … ┆ 42.228354 ┆ -72.56295 ┆ 271227.08 ┆ 1334.88  │\n",
       "│ 9a81-4ba9 ┆ 5         ┆           ┆ 66        ┆   ┆           ┆ 1         ┆           ┆          │\n",
       "│ -80c2-de3 ┆           ┆           ┆           ┆   ┆           ┆           ┆           ┆          │\n",
       "│ 375d5…    ┆           ┆           ┆           ┆   ┆           ┆           ┆           ┆          │\n",
       "│ 034e9e3b- ┆ 1983-11-1 ┆ null      ┆ 999-73-53 ┆ … ┆ 42.360697 ┆ -71.12653 ┆ 793946.01 ┆ 3204.49  │\n",
       "│ 2def-4559 ┆ 4         ┆           ┆ 61        ┆   ┆           ┆ 1         ┆           ┆          │\n",
       "│ -bb2a-785 ┆           ┆           ┆           ┆   ┆           ┆           ┆           ┆          │\n",
       "│ 0888a…    ┆           ┆           ┆           ┆   ┆           ┆           ┆           ┆          │\n",
       "└───────────┴───────────┴───────────┴───────────┴───┴───────────┴───────────┴───────────┴──────────┘"
      ]
     },
     "execution_count": 20,
     "metadata": {},
     "output_type": "execute_result"
    }
   ],
   "source": [
    "con.sql('SELECT * FROM patients LIMIT 2').pl()"
   ]
  },
  {
   "cell_type": "code",
   "execution_count": 21,
   "metadata": {},
   "outputs": [
    {
     "data": {
      "text/plain": [
       "┌──────────────────────┬────────────┬────────────┬───┬───────────────────┬─────────────────────┬─────────────────────┐\n",
       "│       patient        │ birth_date │ death_date │ … │        lat        │ healthcare_expenses │ healthcare_coverage │\n",
       "│       varchar        │    date    │    date    │   │      double       │       double        │       double        │\n",
       "├──────────────────────┼────────────┼────────────┼───┼───────────────────┼─────────────────────┼─────────────────────┤\n",
       "│ 1d604da9-9a81-4ba9…  │ 1989-05-25 │ NULL       │ … │ 42.22835382315942 │           271227.08 │             1334.88 │\n",
       "│ 034e9e3b-2def-4559…  │ 1983-11-14 │ NULL       │ … │ 42.36069732777065 │           793946.01 │             3204.49 │\n",
       "├──────────────────────┴────────────┴────────────┴───┴───────────────────┴─────────────────────┴─────────────────────┤\n",
       "│ 2 rows                                                                                        22 columns (6 shown) │\n",
       "└────────────────────────────────────────────────────────────────────────────────────────────────────────────────────┘"
      ]
     },
     "execution_count": 21,
     "metadata": {},
     "output_type": "execute_result"
    }
   ],
   "source": [
    "con.sql(\"\"\"\n",
    "    SELECT\n",
    "        id AS patient,\n",
    "        TRY_CAST(birthdate AS DATE) AS birth_date,\n",
    "        TRY_CAST(deathdate AS DATE) AS death_date,\n",
    "        CASE\n",
    "            WHEN death_date IS NULL THEN year(age(birth_date))\n",
    "            ELSE year(age(death_date, birth_date))\n",
    "            END AS age,\n",
    "        ssn,\n",
    "        drivers AS drivers_license_no,\n",
    "        passport AS passport_no,\n",
    "        first AS first_name,\n",
    "        last AS last_name,\n",
    "        marital AS marital_status,\n",
    "        race,\n",
    "        ethnicity,\n",
    "        gender,\n",
    "        address,\n",
    "        city,\n",
    "        state,\n",
    "        zip,\n",
    "        county,\n",
    "        lon,\n",
    "        lat,\n",
    "        ROUND(healthcare_expenses, 2) AS healthcare_expenses,\n",
    "        ROUND(healthcare_coverage, 2) AS healthcare_coverage\n",
    "    FROM patients\n",
    "    LIMIT 2\n",
    "\"\"\")"
   ]
  },
  {
   "cell_type": "code",
   "execution_count": 22,
   "metadata": {},
   "outputs": [
    {
     "data": {
      "text/html": [
       "<div><style>\n",
       ".dataframe > thead > tr > th,\n",
       ".dataframe > tbody > tr > td {\n",
       "  text-align: right;\n",
       "}\n",
       "</style>\n",
       "<small>shape: (25, 12)</small><table border=\"1\" class=\"dataframe\"><thead><tr><th>column_name</th><th>column_type</th><th>min</th><th>max</th><th>approx_unique</th><th>avg</th><th>std</th><th>q25</th><th>q50</th><th>q75</th><th>count</th><th>null_percentage</th></tr><tr><td>str</td><td>str</td><td>str</td><td>str</td><td>str</td><td>str</td><td>str</td><td>str</td><td>str</td><td>str</td><td>i64</td><td>str</td></tr></thead><tbody><tr><td>&quot;id&quot;</td><td>&quot;VARCHAR&quot;</td><td>&quot;00185faa-2760-…</td><td>&quot;ffcfa457-00c2-…</td><td>&quot;1175&quot;</td><td>null</td><td>null</td><td>null</td><td>null</td><td>null</td><td>1171</td><td>&quot;0.0%&quot;</td></tr><tr><td>&quot;birthdate&quot;</td><td>&quot;VARCHAR&quot;</td><td>&quot;1909-12-22&quot;</td><td>&quot;2020-03-22&quot;</td><td>&quot;987&quot;</td><td>null</td><td>null</td><td>null</td><td>null</td><td>null</td><td>1171</td><td>&quot;0.0%&quot;</td></tr><tr><td>&quot;deathdate&quot;</td><td>&quot;VARCHAR&quot;</td><td>&quot;1926-03-05&quot;</td><td>&quot;2020-03-30&quot;</td><td>&quot;173&quot;</td><td>null</td><td>null</td><td>null</td><td>null</td><td>null</td><td>1171</td><td>&quot;85.4%&quot;</td></tr><tr><td>&quot;ssn&quot;</td><td>&quot;VARCHAR&quot;</td><td>&quot;999-10-1847&quot;</td><td>&quot;999-99-9338&quot;</td><td>&quot;1166&quot;</td><td>null</td><td>null</td><td>null</td><td>null</td><td>null</td><td>1171</td><td>&quot;0.0%&quot;</td></tr><tr><td>&quot;drivers&quot;</td><td>&quot;VARCHAR&quot;</td><td>&quot;S99910138&quot;</td><td>&quot;S99999770&quot;</td><td>&quot;938&quot;</td><td>null</td><td>null</td><td>null</td><td>null</td><td>null</td><td>1171</td><td>&quot;18.19%&quot;</td></tr><tr><td>&quot;passport&quot;</td><td>&quot;VARCHAR&quot;</td><td>&quot;X10056752X&quot;</td><td>&quot;X9890795X&quot;</td><td>&quot;905&quot;</td><td>null</td><td>null</td><td>null</td><td>null</td><td>null</td><td>1171</td><td>&quot;23.31%&quot;</td></tr><tr><td>&quot;prefix&quot;</td><td>&quot;VARCHAR&quot;</td><td>&quot;Mr.&quot;</td><td>&quot;Ms.&quot;</td><td>&quot;3&quot;</td><td>null</td><td>null</td><td>null</td><td>null</td><td>null</td><td>1171</td><td>&quot;20.84%&quot;</td></tr><tr><td>&quot;first&quot;</td><td>&quot;VARCHAR&quot;</td><td>&quot;Abram53&quot;</td><td>&quot;Ángela136&quot;</td><td>&quot;978&quot;</td><td>null</td><td>null</td><td>null</td><td>null</td><td>null</td><td>1171</td><td>&quot;0.0%&quot;</td></tr><tr><td>&quot;last&quot;</td><td>&quot;VARCHAR&quot;</td><td>&quot;Abbott774&quot;</td><td>&quot;Zulauf375&quot;</td><td>&quot;486&quot;</td><td>null</td><td>null</td><td>null</td><td>null</td><td>null</td><td>1171</td><td>&quot;0.0%&quot;</td></tr><tr><td>&quot;suffix&quot;</td><td>&quot;VARCHAR&quot;</td><td>&quot;JD&quot;</td><td>&quot;PhD&quot;</td><td>&quot;3&quot;</td><td>null</td><td>null</td><td>null</td><td>null</td><td>null</td><td>1171</td><td>&quot;98.98%&quot;</td></tr><tr><td>&quot;maiden&quot;</td><td>&quot;VARCHAR&quot;</td><td>&quot;Adams676&quot;</td><td>&quot;Ávalos396&quot;</td><td>&quot;259&quot;</td><td>null</td><td>null</td><td>null</td><td>null</td><td>null</td><td>1171</td><td>&quot;71.73%&quot;</td></tr><tr><td>&quot;marital&quot;</td><td>&quot;VARCHAR&quot;</td><td>&quot;M&quot;</td><td>&quot;S&quot;</td><td>&quot;2&quot;</td><td>null</td><td>null</td><td>null</td><td>null</td><td>null</td><td>1171</td><td>&quot;32.45%&quot;</td></tr><tr><td>&quot;race&quot;</td><td>&quot;VARCHAR&quot;</td><td>&quot;asian&quot;</td><td>&quot;white&quot;</td><td>&quot;5&quot;</td><td>null</td><td>null</td><td>null</td><td>null</td><td>null</td><td>1171</td><td>&quot;0.0%&quot;</td></tr><tr><td>&quot;ethnicity&quot;</td><td>&quot;VARCHAR&quot;</td><td>&quot;hispanic&quot;</td><td>&quot;nonhispanic&quot;</td><td>&quot;2&quot;</td><td>null</td><td>null</td><td>null</td><td>null</td><td>null</td><td>1171</td><td>&quot;0.0%&quot;</td></tr><tr><td>&quot;gender&quot;</td><td>&quot;VARCHAR&quot;</td><td>&quot;F&quot;</td><td>&quot;M&quot;</td><td>&quot;2&quot;</td><td>null</td><td>null</td><td>null</td><td>null</td><td>null</td><td>1171</td><td>&quot;0.0%&quot;</td></tr><tr><td>&quot;birthplace&quot;</td><td>&quot;VARCHAR&quot;</td><td>&quot;Abington  Mass…</td><td>&quot;Yekaterinburg …</td><td>&quot;298&quot;</td><td>null</td><td>null</td><td>null</td><td>null</td><td>null</td><td>1171</td><td>&quot;0.0%&quot;</td></tr><tr><td>&quot;address&quot;</td><td>&quot;VARCHAR&quot;</td><td>&quot;1000 Runolfsdo…</td><td>&quot;999 Yundt View…</td><td>&quot;1182&quot;</td><td>null</td><td>null</td><td>null</td><td>null</td><td>null</td><td>1171</td><td>&quot;0.0%&quot;</td></tr><tr><td>&quot;city&quot;</td><td>&quot;VARCHAR&quot;</td><td>&quot;Abington&quot;</td><td>&quot;Yarmouth&quot;</td><td>&quot;238&quot;</td><td>null</td><td>null</td><td>null</td><td>null</td><td>null</td><td>1171</td><td>&quot;0.0%&quot;</td></tr><tr><td>&quot;state&quot;</td><td>&quot;VARCHAR&quot;</td><td>&quot;Massachusetts&quot;</td><td>&quot;Massachusetts&quot;</td><td>&quot;1&quot;</td><td>null</td><td>null</td><td>null</td><td>null</td><td>null</td><td>1171</td><td>&quot;0.0%&quot;</td></tr><tr><td>&quot;county&quot;</td><td>&quot;VARCHAR&quot;</td><td>&quot;Barnstable Cou…</td><td>&quot;Worcester Coun…</td><td>&quot;14&quot;</td><td>null</td><td>null</td><td>null</td><td>null</td><td>null</td><td>1171</td><td>&quot;0.0%&quot;</td></tr><tr><td>&quot;zip&quot;</td><td>&quot;BIGINT&quot;</td><td>&quot;1001&quot;</td><td>&quot;2861&quot;</td><td>&quot;208&quot;</td><td>&quot;2009.644904458…</td><td>&quot;451.8714758024…</td><td>&quot;1827&quot;</td><td>&quot;2119&quot;</td><td>&quot;2192&quot;</td><td>1171</td><td>&quot;46.37%&quot;</td></tr><tr><td>&quot;lat&quot;</td><td>&quot;DOUBLE&quot;</td><td>&quot;41.33810923389…</td><td>&quot;42.89584603415…</td><td>&quot;1153&quot;</td><td>&quot;42.25637408298…</td><td>&quot;0.288802681546…</td><td>&quot;42.11485254060…</td><td>&quot;42.30490968056…</td><td>&quot;42.44720729907…</td><td>1171</td><td>&quot;0.0%&quot;</td></tr><tr><td>&quot;lon&quot;</td><td>&quot;DOUBLE&quot;</td><td>&quot;-73.3820502932…</td><td>&quot;-69.9407634414…</td><td>&quot;1195&quot;</td><td>&quot;-71.3598128767…</td><td>&quot;0.629791535029…</td><td>&quot;-71.5790314677…</td><td>&quot;-71.1529276791…</td><td>&quot;-71.0196682906…</td><td>1171</td><td>&quot;0.0%&quot;</td></tr><tr><td>&quot;healthcare_exp…</td><td>&quot;DOUBLE&quot;</td><td>&quot;1822.160000000…</td><td>&quot;2145924.400000…</td><td>&quot;1156&quot;</td><td>&quot;764940.9021093…</td><td>&quot;546474.8679120…</td><td>&quot;231309.7834111…</td><td>&quot;721259.8616203…</td><td>&quot;1260924.847096…</td><td>1171</td><td>&quot;0.0%&quot;</td></tr><tr><td>&quot;healthcare_cov…</td><td>&quot;DOUBLE&quot;</td><td>&quot;0.0&quot;</td><td>&quot;927873.5300000…</td><td>&quot;1087&quot;</td><td>&quot;12932.73748078…</td><td>&quot;43882.48101883…</td><td>&quot;3106.819383116…</td><td>&quot;5742.162561728…</td><td>&quot;10623.09699704…</td><td>1171</td><td>&quot;0.0%&quot;</td></tr></tbody></table></div>"
      ],
      "text/plain": [
       "shape: (25, 12)\n",
       "┌────────────┬────────────┬────────────┬───────────┬───┬───────────┬───────────┬───────┬───────────┐\n",
       "│ column_nam ┆ column_typ ┆ min        ┆ max       ┆ … ┆ q50       ┆ q75       ┆ count ┆ null_perc │\n",
       "│ e          ┆ e          ┆ ---        ┆ ---       ┆   ┆ ---       ┆ ---       ┆ ---   ┆ entage    │\n",
       "│ ---        ┆ ---        ┆ str        ┆ str       ┆   ┆ str       ┆ str       ┆ i64   ┆ ---       │\n",
       "│ str        ┆ str        ┆            ┆           ┆   ┆           ┆           ┆       ┆ str       │\n",
       "╞════════════╪════════════╪════════════╪═══════════╪═══╪═══════════╪═══════════╪═══════╪═══════════╡\n",
       "│ id         ┆ VARCHAR    ┆ 00185faa-2 ┆ ffcfa457- ┆ … ┆ null      ┆ null      ┆ 1171  ┆ 0.0%      │\n",
       "│            ┆            ┆ 760-4218-9 ┆ 00c2-4405 ┆   ┆           ┆           ┆       ┆           │\n",
       "│            ┆            ┆ bf5-db301a ┆ -9837-ac2 ┆   ┆           ┆           ┆       ┆           │\n",
       "│            ┆            ┆ cf…        ┆ 78154…    ┆   ┆           ┆           ┆       ┆           │\n",
       "│ birthdate  ┆ VARCHAR    ┆ 1909-12-22 ┆ 2020-03-2 ┆ … ┆ null      ┆ null      ┆ 1171  ┆ 0.0%      │\n",
       "│            ┆            ┆            ┆ 2         ┆   ┆           ┆           ┆       ┆           │\n",
       "│ deathdate  ┆ VARCHAR    ┆ 1926-03-05 ┆ 2020-03-3 ┆ … ┆ null      ┆ null      ┆ 1171  ┆ 85.4%     │\n",
       "│            ┆            ┆            ┆ 0         ┆   ┆           ┆           ┆       ┆           │\n",
       "│ ssn        ┆ VARCHAR    ┆ 999-10-184 ┆ 999-99-93 ┆ … ┆ null      ┆ null      ┆ 1171  ┆ 0.0%      │\n",
       "│            ┆            ┆ 7          ┆ 38        ┆   ┆           ┆           ┆       ┆           │\n",
       "│ …          ┆ …          ┆ …          ┆ …         ┆ … ┆ …         ┆ …         ┆ …     ┆ …         │\n",
       "│ lat        ┆ DOUBLE     ┆ 41.3381092 ┆ 42.895846 ┆ … ┆ 42.304909 ┆ 42.447207 ┆ 1171  ┆ 0.0%      │\n",
       "│            ┆            ┆ 3389566    ┆ 0341558   ┆   ┆ 680565004 ┆ 2990765   ┆       ┆           │\n",
       "│ lon        ┆ DOUBLE     ┆ -73.382050 ┆ -69.94076 ┆ … ┆ -71.15292 ┆ -71.01966 ┆ 1171  ┆ 0.0%      │\n",
       "│            ┆            ┆ 29321644   ┆ 344148951 ┆   ┆ 767917883 ┆ 82906926  ┆       ┆           │\n",
       "│ healthcare ┆ DOUBLE     ┆ 1822.16000 ┆ 2145924.4 ┆ … ┆ 721259.86 ┆ 1260924.8 ┆ 1171  ┆ 0.0%      │\n",
       "│ _expenses  ┆            ┆ 00000003   ┆ 00000002  ┆   ┆ 16203703  ┆ 470967743 ┆       ┆           │\n",
       "│ healthcare ┆ DOUBLE     ┆ 0.0        ┆ 927873.53 ┆ … ┆ 5742.1625 ┆ 10623.096 ┆ 1171  ┆ 0.0%      │\n",
       "│ _coverage  ┆            ┆            ┆ 00000022  ┆   ┆ 61728394  ┆ 997041419 ┆       ┆           │\n",
       "└────────────┴────────────┴────────────┴───────────┴───┴───────────┴───────────┴───────┴───────────┘"
      ]
     },
     "execution_count": 22,
     "metadata": {},
     "output_type": "execute_result"
    }
   ],
   "source": [
    "con.sql(\"\"\"SUMMARIZE patients\"\"\").pl()"
   ]
  },
  {
   "cell_type": "code",
   "execution_count": null,
   "metadata": {},
   "outputs": [],
   "source": []
  },
  {
   "cell_type": "code",
   "execution_count": 23,
   "metadata": {},
   "outputs": [
    {
     "data": {
      "text/html": [
       "<div><style>\n",
       ".dataframe > thead > tr > th,\n",
       ".dataframe > tbody > tr > td {\n",
       "  text-align: right;\n",
       "}\n",
       "</style>\n",
       "<small>shape: (2, 15)</small><table border=\"1\" class=\"dataframe\"><thead><tr><th>id</th><th>start</th><th>stop</th><th>patient</th><th>organization</th><th>provider</th><th>payer</th><th>encounterclass</th><th>code</th><th>description</th><th>base_encounter_cost</th><th>total_claim_cost</th><th>payer_coverage</th><th>reasoncode</th><th>reasondescription</th></tr><tr><td>str</td><td>str</td><td>str</td><td>str</td><td>str</td><td>str</td><td>str</td><td>str</td><td>i64</td><td>str</td><td>f64</td><td>f64</td><td>f64</td><td>i64</td><td>str</td></tr></thead><tbody><tr><td>&quot;d0c40d10-8d87-…</td><td>&quot;2010-01-23T17:…</td><td>&quot;2010-01-23T18:…</td><td>&quot;034e9e3b-2def-…</td><td>&quot;e002090d-4e92-…</td><td>&quot;e6283e46-fd81-…</td><td>&quot;6e2f1a2d-27bd-…</td><td>&quot;ambulatory&quot;</td><td>185345009</td><td>&quot;Encounter for …</td><td>129.16</td><td>129.16</td><td>54.16</td><td>10509002</td><td>&quot;Acute bronchit…</td></tr><tr><td>&quot;e88bc3a9-007c-…</td><td>&quot;2012-01-23T17:…</td><td>&quot;2012-01-23T18:…</td><td>&quot;034e9e3b-2def-…</td><td>&quot;772ee193-bb9f-…</td><td>&quot;6f1d59a7-a5bd-…</td><td>&quot;6e2f1a2d-27bd-…</td><td>&quot;wellness&quot;</td><td>162673000</td><td>&quot;General examin…</td><td>129.16</td><td>129.16</td><td>129.16</td><td>null</td><td>null</td></tr></tbody></table></div>"
      ],
      "text/plain": [
       "shape: (2, 15)\n",
       "┌───────────┬───────────┬───────────┬───────────┬───┬───────────┬───────────┬───────────┬──────────┐\n",
       "│ id        ┆ start     ┆ stop      ┆ patient   ┆ … ┆ total_cla ┆ payer_cov ┆ reasoncod ┆ reasonde │\n",
       "│ ---       ┆ ---       ┆ ---       ┆ ---       ┆   ┆ im_cost   ┆ erage     ┆ e         ┆ scriptio │\n",
       "│ str       ┆ str       ┆ str       ┆ str       ┆   ┆ ---       ┆ ---       ┆ ---       ┆ n        │\n",
       "│           ┆           ┆           ┆           ┆   ┆ f64       ┆ f64       ┆ i64       ┆ ---      │\n",
       "│           ┆           ┆           ┆           ┆   ┆           ┆           ┆           ┆ str      │\n",
       "╞═══════════╪═══════════╪═══════════╪═══════════╪═══╪═══════════╪═══════════╪═══════════╪══════════╡\n",
       "│ d0c40d10- ┆ 2010-01-2 ┆ 2010-01-2 ┆ 034e9e3b- ┆ … ┆ 129.16    ┆ 54.16     ┆ 10509002  ┆ Acute    │\n",
       "│ 8d87-447e ┆ 3T17:45:2 ┆ 3T18:10:2 ┆ 2def-4559 ┆   ┆           ┆           ┆           ┆ bronchit │\n",
       "│ -836e-99d ┆ 8Z        ┆ 8Z        ┆ -bb2a-785 ┆   ┆           ┆           ┆           ┆ is (diso │\n",
       "│ 26ad5…    ┆           ┆           ┆ 0888a…    ┆   ┆           ┆           ┆           ┆ rder)    │\n",
       "│ e88bc3a9- ┆ 2012-01-2 ┆ 2012-01-2 ┆ 034e9e3b- ┆ … ┆ 129.16    ┆ 129.16    ┆ null      ┆ null     │\n",
       "│ 007c-405e ┆ 3T17:45:2 ┆ 3T18:00:2 ┆ 2def-4559 ┆   ┆           ┆           ┆           ┆          │\n",
       "│ -aabc-792 ┆ 8Z        ┆ 8Z        ┆ -bb2a-785 ┆   ┆           ┆           ┆           ┆          │\n",
       "│ a38f4…    ┆           ┆           ┆ 0888a…    ┆   ┆           ┆           ┆           ┆          │\n",
       "└───────────┴───────────┴───────────┴───────────┴───┴───────────┴───────────┴───────────┴──────────┘"
      ]
     },
     "execution_count": 23,
     "metadata": {},
     "output_type": "execute_result"
    }
   ],
   "source": [
    "con.sql('SELECT * FROM encounters LIMIT 2').pl()"
   ]
  },
  {
   "cell_type": "code",
   "execution_count": 24,
   "metadata": {},
   "outputs": [
    {
     "data": {
      "text/html": [
       "<div><style>\n",
       ".dataframe > thead > tr > th,\n",
       ".dataframe > tbody > tr > td {\n",
       "  text-align: right;\n",
       "}\n",
       "</style>\n",
       "<small>shape: (2, 13)</small><table border=\"1\" class=\"dataframe\"><thead><tr><th>encounter</th><th>encounter_start_time</th><th>encounter_stop_time</th><th>patient</th><th>organization</th><th>provider</th><th>payer</th><th>encounter_class</th><th>code</th><th>description</th><th>base_encounter_cost</th><th>total_claim_cost</th><th>payer_coverage</th></tr><tr><td>str</td><td>str</td><td>str</td><td>str</td><td>str</td><td>str</td><td>str</td><td>str</td><td>i64</td><td>str</td><td>f64</td><td>f64</td><td>f64</td></tr></thead><tbody><tr><td>&quot;d0c40d10-8d87-…</td><td>&quot;2010-01-23T17:…</td><td>&quot;2010-01-23T18:…</td><td>&quot;034e9e3b-2def-…</td><td>&quot;e002090d-4e92-…</td><td>&quot;e6283e46-fd81-…</td><td>&quot;6e2f1a2d-27bd-…</td><td>&quot;ambulatory&quot;</td><td>185345009</td><td>&quot;Encounter for …</td><td>129.16</td><td>129.16</td><td>54.16</td></tr><tr><td>&quot;e88bc3a9-007c-…</td><td>&quot;2012-01-23T17:…</td><td>&quot;2012-01-23T18:…</td><td>&quot;034e9e3b-2def-…</td><td>&quot;772ee193-bb9f-…</td><td>&quot;6f1d59a7-a5bd-…</td><td>&quot;6e2f1a2d-27bd-…</td><td>&quot;wellness&quot;</td><td>162673000</td><td>&quot;General examin…</td><td>129.16</td><td>129.16</td><td>129.16</td></tr></tbody></table></div>"
      ],
      "text/plain": [
       "shape: (2, 13)\n",
       "┌───────────┬───────────┬───────────┬───────────┬───┬───────────┬───────────┬───────────┬──────────┐\n",
       "│ encounter ┆ encounter ┆ encounter ┆ patient   ┆ … ┆ descripti ┆ base_enco ┆ total_cla ┆ payer_co │\n",
       "│ ---       ┆ _start_ti ┆ _stop_tim ┆ ---       ┆   ┆ on        ┆ unter_cos ┆ im_cost   ┆ verage   │\n",
       "│ str       ┆ me        ┆ e         ┆ str       ┆   ┆ ---       ┆ t         ┆ ---       ┆ ---      │\n",
       "│           ┆ ---       ┆ ---       ┆           ┆   ┆ str       ┆ ---       ┆ f64       ┆ f64      │\n",
       "│           ┆ str       ┆ str       ┆           ┆   ┆           ┆ f64       ┆           ┆          │\n",
       "╞═══════════╪═══════════╪═══════════╪═══════════╪═══╪═══════════╪═══════════╪═══════════╪══════════╡\n",
       "│ d0c40d10- ┆ 2010-01-2 ┆ 2010-01-2 ┆ 034e9e3b- ┆ … ┆ Encounter ┆ 129.16    ┆ 129.16    ┆ 54.16    │\n",
       "│ 8d87-447e ┆ 3T17:45:2 ┆ 3T18:10:2 ┆ 2def-4559 ┆   ┆ for       ┆           ┆           ┆          │\n",
       "│ -836e-99d ┆ 8Z        ┆ 8Z        ┆ -bb2a-785 ┆   ┆ symptom   ┆           ┆           ┆          │\n",
       "│ 26ad5…    ┆           ┆           ┆ 0888a…    ┆   ┆           ┆           ┆           ┆          │\n",
       "│ e88bc3a9- ┆ 2012-01-2 ┆ 2012-01-2 ┆ 034e9e3b- ┆ … ┆ General   ┆ 129.16    ┆ 129.16    ┆ 129.16   │\n",
       "│ 007c-405e ┆ 3T17:45:2 ┆ 3T18:00:2 ┆ 2def-4559 ┆   ┆ examinati ┆           ┆           ┆          │\n",
       "│ -aabc-792 ┆ 8Z        ┆ 8Z        ┆ -bb2a-785 ┆   ┆ on of     ┆           ┆           ┆          │\n",
       "│ a38f4…    ┆           ┆           ┆ 0888a…    ┆   ┆ patient   ┆           ┆           ┆          │\n",
       "│           ┆           ┆           ┆           ┆   ┆ (…        ┆           ┆           ┆          │\n",
       "└───────────┴───────────┴───────────┴───────────┴───┴───────────┴───────────┴───────────┴──────────┘"
      ]
     },
     "execution_count": 24,
     "metadata": {},
     "output_type": "execute_result"
    }
   ],
   "source": [
    "con.sql(\"\"\"\n",
    "    SELECT\n",
    "        id AS encounter,\n",
    "        start AS encounter_start_time,\n",
    "        stop AS encounter_stop_time,\n",
    "        patient,\n",
    "        organization,\n",
    "        provider,\n",
    "        payer,\n",
    "        encounterclass AS encounter_class,\n",
    "        code,\n",
    "        description,\n",
    "        base_encounter_cost,\n",
    "        total_claim_cost,\n",
    "        payer_coverage,\n",
    "    FROM encounters\n",
    "    LIMIT 2\n",
    "\"\"\").pl()"
   ]
  },
  {
   "cell_type": "code",
   "execution_count": 25,
   "metadata": {},
   "outputs": [
    {
     "data": {
      "text/plain": [
       "┌────────────────┐\n",
       "│ encounterclass │\n",
       "│    varchar     │\n",
       "├────────────────┤\n",
       "│ ambulatory     │\n",
       "│ wellness       │\n",
       "│ outpatient     │\n",
       "│ urgentcare     │\n",
       "│ emergency      │\n",
       "│ inpatient      │\n",
       "└────────────────┘"
      ]
     },
     "execution_count": 25,
     "metadata": {},
     "output_type": "execute_result"
    }
   ],
   "source": [
    "con.sql(\"\"\"\n",
    "    SELECT\n",
    "        DISTINCT encounterclass\n",
    "    FROM encounters\n",
    "\"\"\")"
   ]
  },
  {
   "cell_type": "code",
   "execution_count": null,
   "metadata": {},
   "outputs": [],
   "source": []
  },
  {
   "cell_type": "code",
   "execution_count": null,
   "metadata": {},
   "outputs": [],
   "source": []
  },
  {
   "cell_type": "code",
   "execution_count": null,
   "metadata": {},
   "outputs": [],
   "source": []
  },
  {
   "cell_type": "code",
   "execution_count": null,
   "metadata": {},
   "outputs": [],
   "source": []
  },
  {
   "cell_type": "code",
   "execution_count": 26,
   "metadata": {},
   "outputs": [
    {
     "data": {
      "text/html": [
       "<div><style>\n",
       ".dataframe > thead > tr > th,\n",
       ".dataframe > tbody > tr > td {\n",
       "  text-align: right;\n",
       "}\n",
       "</style>\n",
       "<small>shape: (2, 13)</small><table border=\"1\" class=\"dataframe\"><thead><tr><th>start</th><th>stop</th><th>patient</th><th>payer</th><th>encounter</th><th>code</th><th>description</th><th>base_cost</th><th>payer_coverage</th><th>dispenses</th><th>totalcost</th><th>reasoncode</th><th>reasondescription</th></tr><tr><td>str</td><td>str</td><td>str</td><td>str</td><td>str</td><td>i64</td><td>str</td><td>f64</td><td>f64</td><td>i64</td><td>f64</td><td>i64</td><td>str</td></tr></thead><tbody><tr><td>&quot;2010-05-05T00:…</td><td>&quot;2011-04-30T00:…</td><td>&quot;8d4c4326-e9de-…</td><td>&quot;b1c428d6-4f07-…</td><td>&quot;1e0d6b0e-1711-…</td><td>389221</td><td>&quot;Etonogestrel 6…</td><td>677.08</td><td>0.0</td><td>12</td><td>8124.96</td><td>null</td><td>null</td></tr><tr><td>&quot;2011-04-30T00:…</td><td>&quot;2012-04-24T00:…</td><td>&quot;8d4c4326-e9de-…</td><td>&quot;b1c428d6-4f07-…</td><td>&quot;6aa37300-d1b4-…</td><td>389221</td><td>&quot;Etonogestrel 6…</td><td>624.09</td><td>0.0</td><td>12</td><td>7489.08</td><td>null</td><td>null</td></tr></tbody></table></div>"
      ],
      "text/plain": [
       "shape: (2, 13)\n",
       "┌───────────┬───────────┬───────────┬───────────┬───┬───────────┬───────────┬───────────┬──────────┐\n",
       "│ start     ┆ stop      ┆ patient   ┆ payer     ┆ … ┆ dispenses ┆ totalcost ┆ reasoncod ┆ reasonde │\n",
       "│ ---       ┆ ---       ┆ ---       ┆ ---       ┆   ┆ ---       ┆ ---       ┆ e         ┆ scriptio │\n",
       "│ str       ┆ str       ┆ str       ┆ str       ┆   ┆ i64       ┆ f64       ┆ ---       ┆ n        │\n",
       "│           ┆           ┆           ┆           ┆   ┆           ┆           ┆ i64       ┆ ---      │\n",
       "│           ┆           ┆           ┆           ┆   ┆           ┆           ┆           ┆ str      │\n",
       "╞═══════════╪═══════════╪═══════════╪═══════════╪═══╪═══════════╪═══════════╪═══════════╪══════════╡\n",
       "│ 2010-05-0 ┆ 2011-04-3 ┆ 8d4c4326- ┆ b1c428d6- ┆ … ┆ 12        ┆ 8124.96   ┆ null      ┆ null     │\n",
       "│ 5T00:26:2 ┆ 0T00:26:2 ┆ e9de-4f45 ┆ 4f07-31e0 ┆   ┆           ┆           ┆           ┆          │\n",
       "│ 3Z        ┆ 3Z        ┆ -9a4c-f8c ┆ -90f0-68f ┆   ┆           ┆           ┆           ┆          │\n",
       "│           ┆           ┆ 36bff…    ┆ fa6ff…    ┆   ┆           ┆           ┆           ┆          │\n",
       "│ 2011-04-3 ┆ 2012-04-2 ┆ 8d4c4326- ┆ b1c428d6- ┆ … ┆ 12        ┆ 7489.08   ┆ null      ┆ null     │\n",
       "│ 0T00:26:2 ┆ 4T00:26:2 ┆ e9de-4f45 ┆ 4f07-31e0 ┆   ┆           ┆           ┆           ┆          │\n",
       "│ 3Z        ┆ 3Z        ┆ -9a4c-f8c ┆ -90f0-68f ┆   ┆           ┆           ┆           ┆          │\n",
       "│           ┆           ┆ 36bff…    ┆ fa6ff…    ┆   ┆           ┆           ┆           ┆          │\n",
       "└───────────┴───────────┴───────────┴───────────┴───┴───────────┴───────────┴───────────┴──────────┘"
      ]
     },
     "execution_count": 26,
     "metadata": {},
     "output_type": "execute_result"
    }
   ],
   "source": [
    "con.sql('SELECT * FROM medications LIMIT 2').pl()"
   ]
  },
  {
   "cell_type": "code",
   "execution_count": 27,
   "metadata": {},
   "outputs": [
    {
     "data": {
      "text/html": [
       "<div><style>\n",
       ".dataframe > thead > tr > th,\n",
       ".dataframe > tbody > tr > td {\n",
       "  text-align: right;\n",
       "}\n",
       "</style>\n",
       "<small>shape: (2, 13)</small><table border=\"1\" class=\"dataframe\"><thead><tr><th>medication_start_time</th><th>medication_end_time</th><th>patient</th><th>payer</th><th>encounter</th><th>code</th><th>description</th><th>base_cost</th><th>payer_coverage</th><th>dispenses</th><th>total_cost</th><th>reason_code</th><th>reason_description</th></tr><tr><td>str</td><td>str</td><td>str</td><td>str</td><td>str</td><td>i64</td><td>str</td><td>f64</td><td>f64</td><td>i64</td><td>f64</td><td>i64</td><td>str</td></tr></thead><tbody><tr><td>&quot;2010-05-05T00:…</td><td>&quot;2011-04-30T00:…</td><td>&quot;8d4c4326-e9de-…</td><td>&quot;b1c428d6-4f07-…</td><td>&quot;1e0d6b0e-1711-…</td><td>389221</td><td>&quot;Etonogestrel 6…</td><td>677.08</td><td>0.0</td><td>12</td><td>8124.96</td><td>null</td><td>null</td></tr><tr><td>&quot;2011-04-30T00:…</td><td>&quot;2012-04-24T00:…</td><td>&quot;8d4c4326-e9de-…</td><td>&quot;b1c428d6-4f07-…</td><td>&quot;6aa37300-d1b4-…</td><td>389221</td><td>&quot;Etonogestrel 6…</td><td>624.09</td><td>0.0</td><td>12</td><td>7489.08</td><td>null</td><td>null</td></tr></tbody></table></div>"
      ],
      "text/plain": [
       "shape: (2, 13)\n",
       "┌───────────┬───────────┬───────────┬───────────┬───┬───────────┬───────────┬───────────┬──────────┐\n",
       "│ medicatio ┆ medicatio ┆ patient   ┆ payer     ┆ … ┆ dispenses ┆ total_cos ┆ reason_co ┆ reason_d │\n",
       "│ n_start_t ┆ n_end_tim ┆ ---       ┆ ---       ┆   ┆ ---       ┆ t         ┆ de        ┆ escripti │\n",
       "│ ime       ┆ e         ┆ str       ┆ str       ┆   ┆ i64       ┆ ---       ┆ ---       ┆ on       │\n",
       "│ ---       ┆ ---       ┆           ┆           ┆   ┆           ┆ f64       ┆ i64       ┆ ---      │\n",
       "│ str       ┆ str       ┆           ┆           ┆   ┆           ┆           ┆           ┆ str      │\n",
       "╞═══════════╪═══════════╪═══════════╪═══════════╪═══╪═══════════╪═══════════╪═══════════╪══════════╡\n",
       "│ 2010-05-0 ┆ 2011-04-3 ┆ 8d4c4326- ┆ b1c428d6- ┆ … ┆ 12        ┆ 8124.96   ┆ null      ┆ null     │\n",
       "│ 5T00:26:2 ┆ 0T00:26:2 ┆ e9de-4f45 ┆ 4f07-31e0 ┆   ┆           ┆           ┆           ┆          │\n",
       "│ 3Z        ┆ 3Z        ┆ -9a4c-f8c ┆ -90f0-68f ┆   ┆           ┆           ┆           ┆          │\n",
       "│           ┆           ┆ 36bff…    ┆ fa6ff…    ┆   ┆           ┆           ┆           ┆          │\n",
       "│ 2011-04-3 ┆ 2012-04-2 ┆ 8d4c4326- ┆ b1c428d6- ┆ … ┆ 12        ┆ 7489.08   ┆ null      ┆ null     │\n",
       "│ 0T00:26:2 ┆ 4T00:26:2 ┆ e9de-4f45 ┆ 4f07-31e0 ┆   ┆           ┆           ┆           ┆          │\n",
       "│ 3Z        ┆ 3Z        ┆ -9a4c-f8c ┆ -90f0-68f ┆   ┆           ┆           ┆           ┆          │\n",
       "│           ┆           ┆ 36bff…    ┆ fa6ff…    ┆   ┆           ┆           ┆           ┆          │\n",
       "└───────────┴───────────┴───────────┴───────────┴───┴───────────┴───────────┴───────────┴──────────┘"
      ]
     },
     "execution_count": 27,
     "metadata": {},
     "output_type": "execute_result"
    }
   ],
   "source": [
    "con.sql(\"\"\"\n",
    "    SELECT\n",
    "        start AS medication_start_time,\n",
    "        stop AS medication_end_time,\n",
    "        patient,\n",
    "        payer,\n",
    "        encounter,\n",
    "        code,\n",
    "        description,\n",
    "        base_cost,\n",
    "        payer_coverage,\n",
    "        dispenses,\n",
    "        totalcost AS total_cost,\n",
    "        reasoncode AS reason_code,\n",
    "        reasondescription AS reason_description\n",
    "    FROM medications\n",
    "    LIMIT 2\n",
    "\"\"\").pl()"
   ]
  },
  {
   "cell_type": "code",
   "execution_count": null,
   "metadata": {},
   "outputs": [],
   "source": []
  },
  {
   "cell_type": "code",
   "execution_count": null,
   "metadata": {},
   "outputs": [],
   "source": []
  },
  {
   "cell_type": "code",
   "execution_count": null,
   "metadata": {},
   "outputs": [],
   "source": []
  },
  {
   "cell_type": "code",
   "execution_count": 28,
   "metadata": {},
   "outputs": [
    {
     "data": {
      "text/plain": [
       "┌─────────┐\n",
       "│   id    │\n",
       "│ varchar │\n",
       "├─────────┤\n",
       "│ 0 rows  │\n",
       "└─────────┘"
      ]
     },
     "execution_count": 28,
     "metadata": {},
     "output_type": "execute_result"
    }
   ],
   "source": [
    "con.sql(\"\"\"\n",
    "    SELECT id\n",
    "    FROM patients\n",
    "    GROUP BY id\n",
    "    HAVING COUNT(*) > 1\n",
    "\"\"\")"
   ]
  },
  {
   "cell_type": "code",
   "execution_count": 29,
   "metadata": {},
   "outputs": [
    {
     "name": "stdout",
     "output_type": "stream",
     "text": [
      "Rows: 2\n",
      "Columns: 22\n",
      "$ patient              <str> 08ea9043-5f84-46ab-9815-81d90024169a, 0d270daf-d227-4461-a6bd-256676bdf824\n",
      "$ birth_date          <date> 1960-10-27, 1961-12-13\n",
      "$ death_date          <date> None, None\n",
      "$ age                  <i64> 62, 61\n",
      "$ ssn                  <str> 999-55-8341, 999-54-8893\n",
      "$ drivers_license_no   <str> S99929107, S99967470\n",
      "$ passport_no          <str> X74835475X, X40311840X\n",
      "$ first_name           <str> Mui729, Emilio417\n",
      "$ last_name            <str> Kihn564, Amador986\n",
      "$ marital_status       <str> M, M\n",
      "$ race                 <str> white, white\n",
      "$ ethnicity            <str> nonhispanic, hispanic\n",
      "$ gender               <str> F, M\n",
      "$ address              <str> 763 Smitham Rue, 566 Schroeder Divide Unit 67\n",
      "$ city                 <str> Worthington, Boston\n",
      "$ state                <str> Massachusetts, Massachusetts\n",
      "$ zip                  <i64> None, 2118\n",
      "$ county               <str> Hampshire County, Suffolk County\n",
      "$ lon                  <f64> -72.91649638963779, -71.03964430153226\n",
      "$ lat                  <f64> 42.368206635543004, 42.37402784164887\n",
      "$ healthcare_expenses  <f64> 1419258.51, 1209835.94\n",
      "$ healthcare_coverage  <f64> 9171.68, 5790.2\n",
      "\n"
     ]
    }
   ],
   "source": [
    "con.sql(\"\"\"\n",
    "\n",
    "with source as (\n",
    "\n",
    "    select * from patients\n",
    "\n",
    "),\n",
    "\n",
    "renamed as (\n",
    "    \n",
    "    select\n",
    "        id as patient,\n",
    "        try_cast(birthdate as date) as birth_date,\n",
    "        try_cast(deathdate as date) as death_date,\n",
    "        case\n",
    "            when death_date is null then year(age(birth_date))\n",
    "            else year(age(death_date, birth_date))\n",
    "            end as age,\n",
    "        ssn,\n",
    "        drivers as drivers_license_no,\n",
    "        passport as passport_no,\n",
    "        first as first_name,\n",
    "        last as last_name,\n",
    "        marital as marital_status,\n",
    "        race,\n",
    "        ethnicity,\n",
    "        gender,\n",
    "        address,\n",
    "        city,\n",
    "        state,\n",
    "        zip,\n",
    "        county,\n",
    "        lon,\n",
    "        lat,\n",
    "        round(healthcare_expenses, 2) as healthcare_expenses,\n",
    "        round(healthcare_coverage, 2) as healthcare_coverage\n",
    "    from source\n",
    "    qualify row_number() over (partition by id) = 1\n",
    "\n",
    ")\n",
    "\n",
    "select * from renamed\n",
    "\n",
    "\n",
    "\"\"\").pl().limit(2).glimpse()"
   ]
  },
  {
   "cell_type": "code",
   "execution_count": null,
   "metadata": {},
   "outputs": [],
   "source": []
  },
  {
   "cell_type": "code",
   "execution_count": null,
   "metadata": {},
   "outputs": [],
   "source": []
  },
  {
   "cell_type": "code",
   "execution_count": 30,
   "metadata": {},
   "outputs": [
    {
     "name": "stdout",
     "output_type": "stream",
     "text": [
      "Rows: 2\n",
      "Columns: 13\n",
      "$ encounter            <str> 000d18f9-4f7f-41be-b874-7f5252550e62, 001dccbd-976a-41e2-bd56-0e0ff90849d9\n",
      "$ encounter_start_time <str> 2000-01-19T23:35:03Z, 2000-09-13T08:43:46Z\n",
      "$ encounter_stop_time  <str> 2000-01-19T23:50:03Z, 2000-09-13T09:13:46Z\n",
      "$ patient              <str> cae10920-f977-48b4-a0d3-4d70ad561fd1, 9f5eacbf-4d98-4024-a559-86d7802e4ead\n",
      "$ organization         <str> be4c63f3-8d38-3fa9-a183-62045b5c85f6, ed146054-9dd5-3f0b-83df-d29d983039c3\n",
      "$ provider             <str> 8f9aea5b-fd01-37c0-8931-18b6d64bdae6, fedd8776-2f1c-3aae-a902-0d70692e180b\n",
      "$ payer                <str> 7caa7254-5050-3b5e-9eae-bd5ea30e809c, 7caa7254-5050-3b5e-9eae-bd5ea30e809c\n",
      "$ encounter_class      <str> ambulatory, wellness\n",
      "$ code                 <i64> 185347001, 162673000\n",
      "$ description          <str> Encounter for problem (procedure), General examination of patient (procedure)\n",
      "$ base_encounter_cost  <f64> 129.16, 129.16\n",
      "$ total_claim_cost     <f64> 129.16, 129.16\n",
      "$ payer_coverage       <f64> 89.16, 89.16\n",
      "\n"
     ]
    }
   ],
   "source": [
    "con.sql(\"\"\"\n",
    "    with source as (\n",
    "\n",
    "        select * from encounters\n",
    "\n",
    "    ),\n",
    "\n",
    "    renamed as (\n",
    "\n",
    "        select\n",
    "            id as encounter,\n",
    "            start as encounter_start_time,\n",
    "            stop as encounter_stop_time,\n",
    "            patient,\n",
    "            organization,\n",
    "            provider,\n",
    "            payer,\n",
    "            encounterclass as encounter_class,\n",
    "            code,\n",
    "            description,\n",
    "            base_encounter_cost,\n",
    "            total_claim_cost,\n",
    "            payer_coverage,\n",
    "\n",
    "        from source\n",
    "        qualify row_number() over (partition by id) = 1\n",
    "\n",
    "    )\n",
    "\n",
    "    select * from renamed\n",
    "\"\"\").pl().limit(2).glimpse()"
   ]
  },
  {
   "cell_type": "code",
   "execution_count": null,
   "metadata": {},
   "outputs": [],
   "source": []
  },
  {
   "cell_type": "code",
   "execution_count": null,
   "metadata": {},
   "outputs": [],
   "source": []
  },
  {
   "cell_type": "code",
   "execution_count": 31,
   "metadata": {},
   "outputs": [
    {
     "name": "stdout",
     "output_type": "stream",
     "text": [
      "Rows: 2\n",
      "Columns: 13\n",
      "$ medication_start_time <str> 1942-04-21T13:04:22Z, 2008-09-27T23:35:03Z\n",
      "$ medication_end_time   <str> 1943-04-27T13:04:22Z, 2008-09-27T23:35:03Z\n",
      "$ patient               <str> 87f05059-de42-4630-a35b-edb53d880640, cae10920-f977-48b4-a0d3-4d70ad561fd1\n",
      "$ payer                 <str> 6e2f1a2d-27bd-3701-8d08-dae202c58632, 7caa7254-5050-3b5e-9eae-bd5ea30e809c\n",
      "$ encounter             <str> 0034b167-ea6d-432e-9da0-ab1e5704c216, 00b16574-d64b-487b-b8f2-ed060334f030\n",
      "$ code                  <i64> 746030, 205923\n",
      "$ description           <str> Atenolol 50 MG / Chlorthalidone 25 MG Oral Tablet, 1 ML Epoetin Alfa 4000 UNT/ML Injection [Epogen]\n",
      "$ base_cost             <f64> 263.49, 263.49\n",
      "$ payer_coverage        <f64> 188.49, 223.49\n",
      "$ dispenses             <i64> 12, 1\n",
      "$ total_cost            <f64> 3161.88, 263.49\n",
      "$ reason_code           <i64> 59621000, 271737000\n",
      "$ reason_description    <str> Hypertension, Anemia (disorder)\n",
      "\n"
     ]
    }
   ],
   "source": [
    "con.sql(\"\"\"\n",
    "        \n",
    "    with source as (\n",
    "        \n",
    "        select * from medications\n",
    "\n",
    "    ),\n",
    "\n",
    "    renamed as (\n",
    "\n",
    "        select\n",
    "            start as medication_start_time,\n",
    "            stop as medication_end_time,\n",
    "            patient,\n",
    "            payer,\n",
    "            encounter,\n",
    "            code,\n",
    "            description,\n",
    "            base_cost,\n",
    "            payer_coverage,\n",
    "            dispenses,\n",
    "            totalcost as total_cost,\n",
    "            reasoncode as reason_code,\n",
    "            reasondescription as reason_description\n",
    "\n",
    "        from source\n",
    "        qualify row_number() over (partition by encounter) = 1\n",
    "    )\n",
    "\n",
    "    select * from renamed\n",
    "\n",
    "\"\"\").pl().limit(2).glimpse()"
   ]
  },
  {
   "cell_type": "code",
   "execution_count": null,
   "metadata": {},
   "outputs": [],
   "source": []
  },
  {
   "cell_type": "code",
   "execution_count": null,
   "metadata": {},
   "outputs": [],
   "source": []
  },
  {
   "cell_type": "code",
   "execution_count": null,
   "metadata": {},
   "outputs": [],
   "source": []
  },
  {
   "cell_type": "code",
   "execution_count": null,
   "metadata": {},
   "outputs": [],
   "source": []
  },
  {
   "cell_type": "markdown",
   "metadata": {},
   "source": [
    "## Close connection"
   ]
  },
  {
   "cell_type": "code",
   "execution_count": 107,
   "metadata": {},
   "outputs": [],
   "source": [
    "con.close()"
   ]
  }
 ],
 "metadata": {
  "kernelspec": {
   "display_name": "dbt_duckdb",
   "language": "python",
   "name": "python3"
  },
  "language_info": {
   "codemirror_mode": {
    "name": "ipython",
    "version": 3
   },
   "file_extension": ".py",
   "mimetype": "text/x-python",
   "name": "python",
   "nbconvert_exporter": "python",
   "pygments_lexer": "ipython3",
   "version": "3.10.12"
  },
  "orig_nbformat": 4
 },
 "nbformat": 4,
 "nbformat_minor": 2
}
