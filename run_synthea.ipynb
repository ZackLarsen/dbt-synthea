{
 "cells": [
  {
   "cell_type": "markdown",
   "metadata": {},
   "source": [
    "# Run Synthea\n",
    "\n",
    "This notebook loads the preprocessed data that needs to be present in the duckdb database before we run 'dbt run', and then it runs the dbt commands needed to build the models in the database."
   ]
  },
  {
   "cell_type": "code",
   "execution_count": 49,
   "metadata": {},
   "outputs": [],
   "source": [
    "from pathlib import Path\n",
    "\n",
    "import polars as pl\n",
    "import duckdb"
   ]
  },
  {
   "cell_type": "markdown",
   "metadata": {},
   "source": [
    "# Delete database if it exists since we're reloading anyway"
   ]
  },
  {
   "cell_type": "code",
   "execution_count": 50,
   "metadata": {},
   "outputs": [],
   "source": [
    "%rm synthea.duckdb"
   ]
  },
  {
   "cell_type": "code",
   "execution_count": 51,
   "metadata": {},
   "outputs": [],
   "source": [
    "# create a connection\n",
    "con = duckdb.connect('synthea.duckdb')"
   ]
  },
  {
   "cell_type": "markdown",
   "metadata": {},
   "source": [
    "# Load duckdb with preprocessed seeds from parquet files"
   ]
  },
  {
   "cell_type": "code",
   "execution_count": 52,
   "metadata": {},
   "outputs": [],
   "source": [
    "# seed_path = Path('./seeds/')\n",
    "\n",
    "# for parquet_file in seed_path.glob('*.parquet'):\n",
    "#     con.sql(\n",
    "#         f\"\"\"\n",
    "#         CREATE TABLE IF NOT EXISTS raw_{parquet_file.stem} AS \n",
    "#         SELECT * FROM read_parquet('{parquet_file}');\n",
    "#         \"\"\"\n",
    "#     )"
   ]
  },
  {
   "cell_type": "markdown",
   "metadata": {},
   "source": [
    "# Load duckdb with preprocessed seeds from parquet files with full 1 MILLION COVID-19 patients"
   ]
  },
  {
   "cell_type": "code",
   "execution_count": 54,
   "metadata": {},
   "outputs": [
    {
     "data": {
      "application/vnd.jupyter.widget-view+json": {
       "model_id": "58383470dca14123a4c4e84674f1f41d",
       "version_major": 2,
       "version_minor": 0
      },
      "text/plain": [
       "FloatProgress(value=0.0, layout=Layout(width='auto'), style=ProgressStyle(bar_color='black'))"
      ]
     },
     "metadata": {},
     "output_type": "display_data"
    },
    {
     "data": {
      "application/vnd.jupyter.widget-view+json": {
       "model_id": "8bea0e96524641d68d0045489e8e0041",
       "version_major": 2,
       "version_minor": 0
      },
      "text/plain": [
       "FloatProgress(value=0.0, layout=Layout(width='auto'), style=ProgressStyle(bar_color='black'))"
      ]
     },
     "metadata": {},
     "output_type": "display_data"
    },
    {
     "data": {
      "application/vnd.jupyter.widget-view+json": {
       "model_id": "18f53c4433fc4c37b2c7fc48c74d34da",
       "version_major": 2,
       "version_minor": 0
      },
      "text/plain": [
       "FloatProgress(value=0.0, layout=Layout(width='auto'), style=ProgressStyle(bar_color='black'))"
      ]
     },
     "metadata": {},
     "output_type": "display_data"
    }
   ],
   "source": [
    "seed_path = Path('./covid/')\n",
    "\n",
    "for csv_file in seed_path.glob('*.csv'):\n",
    "    con.sql(\n",
    "        f\"\"\"\n",
    "        CREATE TABLE IF NOT EXISTS raw_{csv_file.stem} AS \n",
    "        SELECT * FROM read_csv_auto('{csv_file}');\n",
    "        \"\"\"\n",
    "    )"
   ]
  },
  {
   "cell_type": "code",
   "execution_count": 55,
   "metadata": {},
   "outputs": [
    {
     "data": {
      "text/plain": [
       "┌───────────────────────┐\n",
       "│         name          │\n",
       "│        varchar        │\n",
       "├───────────────────────┤\n",
       "│ raw_allergies         │\n",
       "│ raw_careplans         │\n",
       "│ raw_conditions        │\n",
       "│ raw_devices           │\n",
       "│ raw_encounters        │\n",
       "│ raw_imaging_studies   │\n",
       "│ raw_immunizations     │\n",
       "│ raw_medications       │\n",
       "│ raw_observations      │\n",
       "│ raw_organizations     │\n",
       "│ raw_patients          │\n",
       "│ raw_payer_transitions │\n",
       "│ raw_payers            │\n",
       "│ raw_procedures        │\n",
       "│ raw_providers         │\n",
       "│ raw_supplies          │\n",
       "├───────────────────────┤\n",
       "│        16 rows        │\n",
       "└───────────────────────┘"
      ]
     },
     "execution_count": 55,
     "metadata": {},
     "output_type": "execute_result"
    }
   ],
   "source": [
    "con.sql('SHOW TABLES')"
   ]
  },
  {
   "cell_type": "markdown",
   "metadata": {},
   "source": [
    "## Close connection"
   ]
  },
  {
   "cell_type": "code",
   "execution_count": 56,
   "metadata": {},
   "outputs": [],
   "source": [
    "con.close()"
   ]
  },
  {
   "cell_type": "code",
   "execution_count": null,
   "metadata": {},
   "outputs": [],
   "source": []
  },
  {
   "cell_type": "markdown",
   "metadata": {},
   "source": [
    "# Run dbt commands"
   ]
  },
  {
   "cell_type": "code",
   "execution_count": 57,
   "metadata": {},
   "outputs": [
    {
     "name": "stdout",
     "output_type": "stream",
     "text": [
      "\u001b[0m21:06:51  Running with dbt=1.6.0\n",
      "\u001b[0m21:06:51  dbt version: 1.6.0\n",
      "\u001b[0m21:06:51  python version: 3.10.12\n",
      "\u001b[0m21:06:51  python path: /Users/zacklarsen/mambaforge/envs/dbt_duckdb/bin/python\n",
      "\u001b[0m21:06:51  os info: macOS-13.4-arm64-arm-64bit\n",
      "\u001b[0m21:06:51  Using profiles dir at /Users/zacklarsen/Documents/Documents - Zack’s Mac mini/Projects/dbt-synthea\n",
      "\u001b[0m21:06:51  Using profiles.yml file at /Users/zacklarsen/Documents/Documents - Zack’s Mac mini/Projects/dbt-synthea/profiles.yml\n",
      "\u001b[0m21:06:51  Using dbt_project.yml file at /Users/zacklarsen/Documents/Documents - Zack’s Mac mini/Projects/dbt-synthea/dbt_project.yml\n",
      "\u001b[0m21:06:51  adapter type: duckdb\n",
      "\u001b[0m21:06:51  adapter version: 1.6.0\n",
      "\u001b[0m21:06:51  Configuration:\n",
      "\u001b[0m21:06:51    profiles.yml file [\u001b[32mOK found and valid\u001b[0m]\n",
      "\u001b[0m21:06:51    dbt_project.yml file [\u001b[32mOK found and valid\u001b[0m]\n",
      "\u001b[0m21:06:51  Required dependencies:\n",
      "\u001b[0m21:06:51   - git [\u001b[32mOK found\u001b[0m]\n",
      "\n",
      "\u001b[0m21:06:51  Connection:\n",
      "\u001b[0m21:06:51    database: synthea\n",
      "\u001b[0m21:06:51    schema: main\n",
      "\u001b[0m21:06:51    path: /Users/zacklarsen/Documents/Documents - Zack’s Mac mini/Projects/dbt-synthea/synthea.duckdb\n",
      "\u001b[0m21:06:51    config_options: None\n",
      "\u001b[0m21:06:51    extensions: ['httpfs', 'parquet']\n",
      "\u001b[0m21:06:51    settings: None\n",
      "\u001b[0m21:06:51    external_root: .\n",
      "\u001b[0m21:06:51    use_credential_provider: None\n",
      "\u001b[0m21:06:51    attach: None\n",
      "\u001b[0m21:06:51    filesystems: None\n",
      "\u001b[0m21:06:51    remote: None\n",
      "\u001b[0m21:06:51    plugins: None\n",
      "\u001b[0m21:06:51    disable_transactions: False\n",
      "\u001b[0m21:06:51  Registered adapter: duckdb=1.6.0\n",
      "\u001b[0m21:06:51    Connection test: [\u001b[32mOK connection ok\u001b[0m]\n",
      "\n",
      "\u001b[0m21:06:51  \u001b[32mAll checks passed!\u001b[0m\n"
     ]
    }
   ],
   "source": [
    "%%bash\n",
    "dbt debug"
   ]
  },
  {
   "cell_type": "code",
   "execution_count": 58,
   "metadata": {},
   "outputs": [
    {
     "name": "stdout",
     "output_type": "stream",
     "text": [
      "\u001b[0m21:06:56  Running with dbt=1.6.0\n",
      "\u001b[0m21:06:56  Registered adapter: duckdb=1.6.0\n",
      "\u001b[0m21:06:56  Found 4 models, 16 seeds, 19 tests, 0 sources, 0 exposures, 0 metrics, 348 macros, 0 groups, 0 semantic models\n",
      "\u001b[0m21:06:56  \n",
      "\u001b[0m21:06:56  Concurrency: 1 threads (target='dev')\n",
      "\u001b[0m21:06:56  \n",
      "\u001b[0m21:06:56  1 of 4 START sql view model main.stg_encounters ................................ [RUN]\n",
      "\u001b[0m21:06:56  1 of 4 OK created sql view model main.stg_encounters ........................... [\u001b[32mOK\u001b[0m in 0.06s]\n",
      "\u001b[0m21:06:56  2 of 4 START sql view model main.stg_medications ............................... [RUN]\n",
      "\u001b[0m21:06:56  2 of 4 OK created sql view model main.stg_medications .......................... [\u001b[32mOK\u001b[0m in 0.03s]\n",
      "\u001b[0m21:06:56  3 of 4 START sql view model main.stg_patients .................................. [RUN]\n",
      "\u001b[0m21:06:56  3 of 4 OK created sql view model main.stg_patients ............................. [\u001b[32mOK\u001b[0m in 0.03s]\n",
      "\u001b[0m21:06:56  4 of 4 START sql table model main.patients ..................................... [RUN]\n",
      "\u001b[0m21:07:01  4 of 4 OK created sql table model main.patients ................................ [\u001b[32mOK\u001b[0m in 4.96s]\n",
      "\u001b[0m21:07:01  \n",
      "\u001b[0m21:07:01  Finished running 3 view models, 1 table model in 0 hours 0 minutes and 5.18 seconds (5.18s).\n",
      "\u001b[0m21:07:01  \n",
      "\u001b[0m21:07:01  \u001b[32mCompleted successfully\u001b[0m\n",
      "\u001b[0m21:07:01  \n",
      "\u001b[0m21:07:01  Done. PASS=4 WARN=0 ERROR=0 SKIP=0 TOTAL=4\n"
     ]
    }
   ],
   "source": [
    "%%bash\n",
    "dbt run"
   ]
  },
  {
   "cell_type": "code",
   "execution_count": 59,
   "metadata": {},
   "outputs": [],
   "source": [
    "con = duckdb.connect('synthea.duckdb')"
   ]
  },
  {
   "cell_type": "code",
   "execution_count": 60,
   "metadata": {},
   "outputs": [
    {
     "data": {
      "text/plain": [
       "┌───────────────────────┐\n",
       "│         name          │\n",
       "│        varchar        │\n",
       "├───────────────────────┤\n",
       "│ patients              │\n",
       "│ raw_allergies         │\n",
       "│ raw_careplans         │\n",
       "│ raw_conditions        │\n",
       "│ raw_devices           │\n",
       "│ raw_encounters        │\n",
       "│ raw_imaging_studies   │\n",
       "│ raw_immunizations     │\n",
       "│ raw_medications       │\n",
       "│ raw_observations      │\n",
       "│ raw_organizations     │\n",
       "│ raw_patients          │\n",
       "│ raw_payer_transitions │\n",
       "│ raw_payers            │\n",
       "│ raw_procedures        │\n",
       "│ raw_providers         │\n",
       "│ raw_supplies          │\n",
       "│ stg_encounters        │\n",
       "│ stg_medications       │\n",
       "│ stg_patients          │\n",
       "├───────────────────────┤\n",
       "│        20 rows        │\n",
       "└───────────────────────┘"
      ]
     },
     "execution_count": 60,
     "metadata": {},
     "output_type": "execute_result"
    }
   ],
   "source": [
    "con.sql('SHOW TABLES')"
   ]
  },
  {
   "cell_type": "code",
   "execution_count": 61,
   "metadata": {},
   "outputs": [
    {
     "data": {
      "text/plain": [
       "┌──────────────┐\n",
       "│ count_star() │\n",
       "│    int64     │\n",
       "├──────────────┤\n",
       "│      3188933 │\n",
       "└──────────────┘"
      ]
     },
     "execution_count": 61,
     "metadata": {},
     "output_type": "execute_result"
    }
   ],
   "source": [
    "con.sql('select count(*) from patients')"
   ]
  },
  {
   "cell_type": "code",
   "execution_count": 62,
   "metadata": {},
   "outputs": [
    {
     "data": {
      "text/plain": [
       "┌──────────────────────┬────────────┬───┬──────────────────────┬──────────────────────┬──────────────────────┐\n",
       "│       patient        │ first_name │ … │ medication_payer_c…  │ base_medication_cost │ total_medication_c…  │\n",
       "│       varchar        │  varchar   │   │        double        │        double        │        double        │\n",
       "├──────────────────────┼────────────┼───┼──────────────────────┼──────────────────────┼──────────────────────┤\n",
       "│ 4336e18c-8c0b-48d5…  │ Erwin847   │ … │               223.49 │               263.49 │              3161.88 │\n",
       "│ 56f31489-d62a-4f97…  │ Carmine137 │ … │                  0.0 │                19.33 │              2764.19 │\n",
       "│ f830c73b-fd2b-451a…  │ Lorena247  │ … │                  0.0 │               263.49 │              3161.88 │\n",
       "│ 27d7982f-ae30-43e2…  │ Felisha640 │ … │                  0.0 │               263.49 │              2898.39 │\n",
       "│ be0cf070-4814-44af…  │ Antonio44  │ … │                  0.0 │               263.49 │              3161.88 │\n",
       "│ b251d485-2965-4177…  │ Jewell855  │ … │                  0.0 │               263.49 │              3161.88 │\n",
       "│ 9c76af0d-ef12-420c…  │ Kenny207   │ … │               203.49 │               263.49 │              3161.88 │\n",
       "│ c3c743ed-086e-457a…  │ Shannan727 │ … │               351.73 │               391.73 │               391.73 │\n",
       "│ 7cf60a3b-bdef-4bb0…  │ Otha286    │ … │                  0.0 │                 7.47 │              3391.38 │\n",
       "│ d61adf72-c053-4b02…  │ Shane235   │ … │                  0.0 │               263.49 │              3161.88 │\n",
       "├──────────────────────┴────────────┴───┴──────────────────────┴──────────────────────┴──────────────────────┤\n",
       "│ 10 rows                                                                               29 columns (5 shown) │\n",
       "└────────────────────────────────────────────────────────────────────────────────────────────────────────────┘"
      ]
     },
     "execution_count": 62,
     "metadata": {},
     "output_type": "execute_result"
    }
   ],
   "source": [
    "con.sql('select * from patients limit 10')"
   ]
  },
  {
   "cell_type": "code",
   "execution_count": 63,
   "metadata": {},
   "outputs": [],
   "source": [
    "con.close()"
   ]
  }
 ],
 "metadata": {
  "kernelspec": {
   "display_name": "dbt_duckdb",
   "language": "python",
   "name": "python3"
  },
  "language_info": {
   "codemirror_mode": {
    "name": "ipython",
    "version": 3
   },
   "file_extension": ".py",
   "mimetype": "text/x-python",
   "name": "python",
   "nbconvert_exporter": "python",
   "pygments_lexer": "ipython3",
   "version": "3.10.12"
  },
  "orig_nbformat": 4
 },
 "nbformat": 4,
 "nbformat_minor": 2
}
