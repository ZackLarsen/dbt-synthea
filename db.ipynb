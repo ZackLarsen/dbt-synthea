{
 "cells": [
  {
   "cell_type": "code",
   "execution_count": 96,
   "metadata": {},
   "outputs": [],
   "source": [
    "import polars as pl\n",
    "import polars.selectors as cs\n",
    "import duckdb"
   ]
  },
  {
   "cell_type": "code",
   "execution_count": 97,
   "metadata": {},
   "outputs": [],
   "source": [
    "con = duckdb.connect('synthea.duckdb')"
   ]
  },
  {
   "cell_type": "code",
   "execution_count": 98,
   "metadata": {},
   "outputs": [
    {
     "data": {
      "text/plain": [
       "┌───────────────────────┐\n",
       "│         name          │\n",
       "│        varchar        │\n",
       "├───────────────────────┤\n",
       "│ patients              │\n",
       "│ raw_allergies         │\n",
       "│ raw_careplans         │\n",
       "│ raw_conditions        │\n",
       "│ raw_devices           │\n",
       "│ raw_encounters        │\n",
       "│ raw_imaging_studies   │\n",
       "│ raw_immunizations     │\n",
       "│ raw_medications       │\n",
       "│ raw_observations      │\n",
       "│ raw_organizations     │\n",
       "│ raw_patients          │\n",
       "│ raw_payer_transitions │\n",
       "│ raw_payers            │\n",
       "│ raw_procedures        │\n",
       "│ raw_providers         │\n",
       "│ raw_supplies          │\n",
       "│ stg_encounters        │\n",
       "│ stg_medications       │\n",
       "│ stg_patients          │\n",
       "├───────────────────────┤\n",
       "│        20 rows        │\n",
       "└───────────────────────┘"
      ]
     },
     "execution_count": 98,
     "metadata": {},
     "output_type": "execute_result"
    }
   ],
   "source": [
    "con.sql('SHOW TABLES')"
   ]
  },
  {
   "cell_type": "code",
   "execution_count": 99,
   "metadata": {},
   "outputs": [
    {
     "name": "stdout",
     "output_type": "stream",
     "text": [
      "patients\n",
      "┌──────────────┐\n",
      "│ count_star() │\n",
      "│    int64     │\n",
      "├──────────────┤\n",
      "│      3188933 │\n",
      "└──────────────┘\n",
      "\n",
      "raw_allergies\n",
      "┌──────────────┐\n",
      "│ count_star() │\n",
      "│    int64     │\n",
      "├──────────────┤\n",
      "│        51592 │\n",
      "└──────────────┘\n",
      "\n",
      "raw_careplans\n",
      "┌──────────────┐\n",
      "│ count_star() │\n",
      "│    int64     │\n",
      "├──────────────┤\n",
      "│       377726 │\n",
      "└──────────────┘\n",
      "\n",
      "raw_conditions\n",
      "┌──────────────┐\n",
      "│ count_star() │\n",
      "│    int64     │\n",
      "├──────────────┤\n",
      "│      1143900 │\n",
      "└──────────────┘\n",
      "\n",
      "raw_devices\n",
      "┌──────────────┐\n",
      "│ count_star() │\n",
      "│    int64     │\n",
      "├──────────────┤\n",
      "│        23694 │\n",
      "└──────────────┘\n",
      "\n",
      "raw_encounters\n",
      "┌──────────────┐\n",
      "│ count_star() │\n",
      "│    int64     │\n",
      "├──────────────┤\n",
      "│      3188675 │\n",
      "└──────────────┘\n",
      "\n",
      "raw_imaging_studies\n",
      "┌──────────────┐\n",
      "│ count_star() │\n",
      "│    int64     │\n",
      "├──────────────┤\n",
      "│        45609 │\n",
      "└──────────────┘\n",
      "\n",
      "raw_immunizations\n",
      "┌──────────────┐\n",
      "│ count_star() │\n",
      "│    int64     │\n",
      "├──────────────┤\n",
      "│       168160 │\n",
      "└──────────────┘\n",
      "\n",
      "raw_medications\n",
      "┌──────────────┐\n",
      "│ count_star() │\n",
      "│    int64     │\n",
      "├──────────────┤\n",
      "│      4227723 │\n",
      "└──────────────┘\n",
      "\n",
      "raw_observations\n",
      "┌──────────────┐\n",
      "│ count_star() │\n",
      "│    int64     │\n",
      "├──────────────┤\n",
      "│     16219969 │\n",
      "└──────────────┘\n",
      "\n",
      "raw_organizations\n",
      "┌──────────────┐\n",
      "│ count_star() │\n",
      "│    int64     │\n",
      "├──────────────┤\n",
      "│         9175 │\n",
      "└──────────────┘\n",
      "\n",
      "raw_patients\n",
      "┌──────────────┐\n",
      "│ count_star() │\n",
      "│    int64     │\n",
      "├──────────────┤\n",
      "│       124150 │\n",
      "└──────────────┘\n",
      "\n",
      "raw_payer_transitions\n",
      "┌──────────────┐\n",
      "│ count_star() │\n",
      "│    int64     │\n",
      "├──────────────┤\n",
      "│       409553 │\n",
      "└──────────────┘\n",
      "\n",
      "raw_payers\n",
      "┌──────────────┐\n",
      "│ count_star() │\n",
      "│    int64     │\n",
      "├──────────────┤\n",
      "│           10 │\n",
      "└──────────────┘\n",
      "\n",
      "raw_procedures\n",
      "┌──────────────┐\n",
      "│ count_star() │\n",
      "│    int64     │\n",
      "├──────────────┤\n",
      "│       979564 │\n",
      "└──────────────┘\n",
      "\n",
      "raw_providers\n",
      "┌──────────────┐\n",
      "│ count_star() │\n",
      "│    int64     │\n",
      "├──────────────┤\n",
      "│        60534 │\n",
      "└──────────────┘\n",
      "\n",
      "raw_supplies\n",
      "┌──────────────┐\n",
      "│ count_star() │\n",
      "│    int64     │\n",
      "├──────────────┤\n",
      "│      1389858 │\n",
      "└──────────────┘\n",
      "\n",
      "stg_encounters\n",
      "┌──────────────┐\n",
      "│ count_star() │\n",
      "│    int64     │\n",
      "├──────────────┤\n",
      "│      3188675 │\n",
      "└──────────────┘\n",
      "\n",
      "stg_medications\n",
      "┌──────────────┐\n",
      "│ count_star() │\n",
      "│    int64     │\n",
      "├──────────────┤\n",
      "│      2485952 │\n",
      "└──────────────┘\n",
      "\n",
      "stg_patients\n",
      "┌──────────────┐\n",
      "│ count_star() │\n",
      "│    int64     │\n",
      "├──────────────┤\n",
      "│       124150 │\n",
      "└──────────────┘\n",
      "\n"
     ]
    }
   ],
   "source": [
    "for table in con.sql('SHOW TABLES').pl().select(pl.col(\"name\")).to_series().to_list():\n",
    "    print(table)\n",
    "    print(con.sql(f'SELECT COUNT(*) FROM {table}'))"
   ]
  },
  {
   "cell_type": "code",
   "execution_count": 100,
   "metadata": {},
   "outputs": [
    {
     "data": {
      "text/plain": [
       "┌──────────────┬─────────────────────────┐\n",
       "│ count_star() │ count(DISTINCT patient) │\n",
       "│    int64     │          int64          │\n",
       "├──────────────┼─────────────────────────┤\n",
       "│      3188933 │                  124150 │\n",
       "└──────────────┴─────────────────────────┘"
      ]
     },
     "execution_count": 100,
     "metadata": {},
     "output_type": "execute_result"
    }
   ],
   "source": [
    "con.sql('SELECT COUNT(*), COUNT(DISTINCT patient) FROM patients')"
   ]
  },
  {
   "cell_type": "code",
   "execution_count": 101,
   "metadata": {},
   "outputs": [
    {
     "data": {
      "text/plain": [
       "┌──────────────────────┬──────────────┬───┬──────────────────────┬──────────────────────┬──────────────────────┐\n",
       "│       patient        │  first_name  │ … │ medication_payer_c…  │ base_medication_cost │ total_medication_c…  │\n",
       "│       varchar        │   varchar    │   │        double        │        double        │        double        │\n",
       "├──────────────────────┼──────────────┼───┼──────────────────────┼──────────────────────┼──────────────────────┤\n",
       "│ 0001049f-9248-47fe…  │ Katharina121 │ … │                  0.0 │               263.49 │              3161.88 │\n",
       "│ 0001049f-9248-47fe…  │ Katharina121 │ … │                  0.0 │               263.49 │              3161.88 │\n",
       "│ 0001049f-9248-47fe…  │ Katharina121 │ … │                  0.0 │               263.49 │              3161.88 │\n",
       "│ 0001049f-9248-47fe…  │ Katharina121 │ … │                 NULL │                 NULL │                 NULL │\n",
       "│ 0001049f-9248-47fe…  │ Katharina121 │ … │                 NULL │                 NULL │                 NULL │\n",
       "│ 0001049f-9248-47fe…  │ Katharina121 │ … │                  0.0 │               263.49 │              3161.88 │\n",
       "│ 0001049f-9248-47fe…  │ Katharina121 │ … │                 NULL │                 NULL │                 NULL │\n",
       "│ 0001049f-9248-47fe…  │ Katharina121 │ … │                  0.0 │               263.49 │             35044.17 │\n",
       "│ 0001049f-9248-47fe…  │ Katharina121 │ … │                  0.0 │               263.49 │              3161.88 │\n",
       "│ 0001049f-9248-47fe…  │ Katharina121 │ … │                 NULL │                 NULL │                 NULL │\n",
       "│          ·           │      ·       │ · │                   ·  │                   ·  │                   ·  │\n",
       "│          ·           │      ·       │ · │                   ·  │                   ·  │                   ·  │\n",
       "│          ·           │      ·       │ · │                   ·  │                   ·  │                   ·  │\n",
       "│ 0001049f-9248-47fe…  │ Katharina121 │ … │                  0.0 │               263.49 │              3161.88 │\n",
       "│ 0001049f-9248-47fe…  │ Katharina121 │ … │                 NULL │                 NULL │                 NULL │\n",
       "│ 0001049f-9248-47fe…  │ Katharina121 │ … │                  0.0 │               263.49 │               526.98 │\n",
       "│ 0001049f-9248-47fe…  │ Katharina121 │ … │                 NULL │                 NULL │                 NULL │\n",
       "│ 0001049f-9248-47fe…  │ Katharina121 │ … │                 NULL │                 NULL │                 NULL │\n",
       "│ 0001049f-9248-47fe…  │ Katharina121 │ … │                  0.0 │               263.49 │              1317.45 │\n",
       "│ 0001049f-9248-47fe…  │ Katharina121 │ … │                  0.0 │               263.49 │              3161.88 │\n",
       "│ 0001049f-9248-47fe…  │ Katharina121 │ … │                  0.0 │               263.49 │              3161.88 │\n",
       "│ 0001049f-9248-47fe…  │ Katharina121 │ … │                 NULL │                 NULL │                 NULL │\n",
       "│ 0001049f-9248-47fe…  │ Katharina121 │ … │                 NULL │                 NULL │                 NULL │\n",
       "├──────────────────────┴──────────────┴───┴──────────────────────┴──────────────────────┴──────────────────────┤\n",
       "│ 25 rows (20 shown)                                                                      29 columns (5 shown) │\n",
       "└──────────────────────────────────────────────────────────────────────────────────────────────────────────────┘"
      ]
     },
     "execution_count": 101,
     "metadata": {},
     "output_type": "execute_result"
    }
   ],
   "source": [
    "con.sql('SELECT * FROM patients ORDER BY patient LIMIT 25')"
   ]
  },
  {
   "cell_type": "code",
   "execution_count": null,
   "metadata": {},
   "outputs": [],
   "source": []
  },
  {
   "cell_type": "code",
   "execution_count": null,
   "metadata": {},
   "outputs": [],
   "source": []
  },
  {
   "cell_type": "code",
   "execution_count": 102,
   "metadata": {},
   "outputs": [
    {
     "data": {
      "text/plain": [
       "┌──────────────┬─────────────────────────┐\n",
       "│ count_star() │ count(DISTINCT patient) │\n",
       "│    int64     │          int64          │\n",
       "├──────────────┼─────────────────────────┤\n",
       "│       124150 │                  124150 │\n",
       "└──────────────┴─────────────────────────┘"
      ]
     },
     "execution_count": 102,
     "metadata": {},
     "output_type": "execute_result"
    }
   ],
   "source": [
    "con.sql('SELECT COUNT(*), COUNT(DISTINCT patient) FROM stg_patients')"
   ]
  },
  {
   "cell_type": "code",
   "execution_count": 103,
   "metadata": {},
   "outputs": [
    {
     "data": {
      "text/plain": [
       "┌──────────────┬─────────────────────────┬───────────────────────────┐\n",
       "│ count_star() │ count(DISTINCT patient) │ count(DISTINCT encounter) │\n",
       "│    int64     │          int64          │           int64           │\n",
       "├──────────────┼─────────────────────────┼───────────────────────────┤\n",
       "│      3188675 │                  123892 │                   3188675 │\n",
       "└──────────────┴─────────────────────────┴───────────────────────────┘"
      ]
     },
     "execution_count": 103,
     "metadata": {},
     "output_type": "execute_result"
    }
   ],
   "source": [
    "con.sql('SELECT COUNT(*), COUNT(DISTINCT patient), COUNT(DISTINCT encounter) FROM stg_encounters')"
   ]
  },
  {
   "cell_type": "code",
   "execution_count": 104,
   "metadata": {},
   "outputs": [
    {
     "data": {
      "text/plain": [
       "┌──────────────┬─────────────────────────┐\n",
       "│ count_star() │ count(DISTINCT patient) │\n",
       "│    int64     │          int64          │\n",
       "├──────────────┼─────────────────────────┤\n",
       "│      2485952 │                   95529 │\n",
       "└──────────────┴─────────────────────────┘"
      ]
     },
     "execution_count": 104,
     "metadata": {},
     "output_type": "execute_result"
    }
   ],
   "source": [
    "con.sql('SELECT COUNT(*), COUNT(DISTINCT patient) FROM stg_medications')"
   ]
  },
  {
   "cell_type": "code",
   "execution_count": null,
   "metadata": {},
   "outputs": [],
   "source": []
  },
  {
   "cell_type": "code",
   "execution_count": null,
   "metadata": {},
   "outputs": [],
   "source": []
  },
  {
   "cell_type": "code",
   "execution_count": 105,
   "metadata": {},
   "outputs": [
    {
     "data": {
      "text/plain": [
       "┌──────────────┐\n",
       "│ count_star() │\n",
       "│    int64     │\n",
       "├──────────────┤\n",
       "│      3188933 │\n",
       "└──────────────┘"
      ]
     },
     "execution_count": 105,
     "metadata": {},
     "output_type": "execute_result"
    }
   ],
   "source": [
    "con.sql(\"\"\"\n",
    "    select count(*)\n",
    "    \n",
    "    from stg_patients\n",
    "    \n",
    "    left join stg_encounters\n",
    "        on stg_patients.patient = stg_encounters.patient\n",
    "\"\"\")"
   ]
  },
  {
   "cell_type": "code",
   "execution_count": 106,
   "metadata": {},
   "outputs": [
    {
     "data": {
      "text/plain": [
       "┌──────────────┬──────────────────────────────────────┬─────────────────────────────────────────┐\n",
       "│ count_star() │ count(DISTINCT stg_patients.patient) │ count(DISTINCT stg_medications.patient) │\n",
       "│    int64     │                int64                 │                  int64                  │\n",
       "├──────────────┼──────────────────────────────────────┼─────────────────────────────────────────┤\n",
       "│      2514573 │                               124150 │                                   95529 │\n",
       "└──────────────┴──────────────────────────────────────┴─────────────────────────────────────────┘"
      ]
     },
     "execution_count": 106,
     "metadata": {},
     "output_type": "execute_result"
    }
   ],
   "source": [
    "con.sql(\"\"\"\n",
    "    select count(*),\n",
    "        count(distinct stg_patients.patient),\n",
    "        count(distinct stg_medications.patient)\n",
    "\n",
    "    from stg_patients\n",
    "\n",
    "    left join stg_medications\n",
    "        on stg_patients.patient = stg_medications.patient\n",
    "\"\"\")"
   ]
  },
  {
   "cell_type": "code",
   "execution_count": null,
   "metadata": {},
   "outputs": [],
   "source": []
  },
  {
   "cell_type": "code",
   "execution_count": 107,
   "metadata": {},
   "outputs": [],
   "source": [
    "patients = con.sql('SELECT * FROM patients USING SAMPLE 10000').pl()"
   ]
  },
  {
   "cell_type": "code",
   "execution_count": 108,
   "metadata": {},
   "outputs": [
    {
     "name": "stdout",
     "output_type": "stream",
     "text": [
      "Rows: 10000\n",
      "Columns: 29\n",
      "$ patient                              <str> baffa93f-ae0e-4c33-a9bc-ef0426398436, 2afd2a13-86fa-4c55-bb02-df9572028442, e3c3cfd9-b7bd-4484-8bf7-5a43d20e105e, 8c15fce6-ca2c-45ca-9860-7a7979ef31e0, c5af8ef6-0518-4e1e-b809-8e8b65f83b55, baf8fdef-3fae-4f1f-8788-d1d54d14ab8e, 3d539b5a-fb2c-49d5-87d2-0d4b91dce9e2, 742ade60-4445-4403-9076-226f0907b80b, c3c743ed-086e-457a-b7d6-193607d2b285, d4277c21-b440-49ab-9062-a9de93266ad2\n",
      "$ first_name                           <str> Collene784, Louis204, Drew592, Herbert830, Carylon722, Alayna598, Wilbur107, Jerome176, Shannan727, Larissa293\n",
      "$ last_name                            <str> Spencer878, Kilback373, Donnelly343, Willms744, Christiansen251, Spencer878, Kulas532, Wolff180, Schoen8, Stamm704\n",
      "$ birth_date                          <date> 1941-01-05, 1948-03-12, 1956-12-06, 1921-06-27, 1976-11-17, 1949-04-09, 1934-08-01, 1959-04-11, 1927-10-06, 1949-02-14\n",
      "$ death_date                          <date> 2018-01-16, 2018-02-27, None, None, None, None, 2002-11-20, None, 2019-08-08, None\n",
      "$ age                                  <i64> 77, 69, 66, 102, 46, 74, 68, 64, 91, 74\n",
      "$ healthcare_expenses                  <f64> 1541469.86, 1807349.31, 1696275.97, 1757768.37, 927279.1, 1329464.17, 1452054.76, 1333006.45, 1803395.98, 1423145.57\n",
      "$ healthcare_coverage                  <f64> 51329.44, 10023.74, 6035.36, 28723.24, 19962.11, 8062.25, 81242.62, 18048.34, 952667.28, 29628.64\n",
      "$ encounter                            <str> 3d0d1339-1eab-438a-9a12-8a12ac5943ea, a62221ae-7339-462d-8929-d82d9d90bf41, 150e2156-96b4-46b9-b89b-d2be6c86a89c, eaf94c07-8c67-4ada-9ce9-51962c167c5b, d60b073d-5da2-4801-b952-0ffa3dcd0334, 7152242a-2a5d-4e03-b1d1-c8223555ad4f, 3e3ef723-1006-4c06-8d87-dab7cd243796, 31e34610-98ce-4d83-8439-6ca4201c2725, 7e9553ed-0894-4e9d-a9eb-1814945e8a44, c48feb21-40f6-409b-acf7-ce2a231944d8\n",
      "$ encounter_start_time        <datetime[μs]> 2013-06-10 03:46:02, 2008-10-25 14:08:43, 2003-07-10 08:32:35, 1939-07-01 21:28:00, 2001-02-15 03:59:42, 1993-03-29 18:29:53, 1963-10-16 21:39:54, 1977-06-04 17:08:29, 1964-10-01 05:28:20, 2004-02-14 08:22:05\n",
      "$ encounter_stop_time         <datetime[μs]> 2013-06-10 04:01:02, 2008-10-25 14:23:43, 2003-07-10 09:02:35, 1939-07-01 21:43:00, 2001-02-15 04:14:42, 1993-03-29 18:44:53, 1963-10-16 22:09:54, 1977-06-04 17:23:29, 1964-10-01 05:43:20, 2004-02-14 09:05:05\n",
      "$ encounter_class                      <str> outpatient, ambulatory, wellness, ambulatory, wellness, ambulatory, wellness, wellness, outpatient, ambulatory\n",
      "$ encounter_diag_code                  <i64> None, 55822004, None, None, None, 239873007, None, None, None, None\n",
      "$ encounter_diag_description           <str> None, Hyperlipidemia, None, None, None, Osteoarthritis of knee, None, None, None, None\n",
      "$ BASE_ENCOUNTER_COST                  <f64> 129.16, 129.16, 129.16, 129.16, 129.16, 129.16, 129.16, 129.16, 129.16, 129.16\n",
      "$ total_encounter_cost                 <f64> 129.16, 129.16, 129.16, 129.16, 129.16, 129.16, 129.16, 129.16, 129.16, 129.16\n",
      "$ encounter_payer                      <str> 7caa7254-5050-3b5e-9eae-bd5ea30e809c, b1c428d6-4f07-31e0-90f0-68ffa6ff8c76, 42c4fca7-f8a9-3cd1-982a-dd9751bf3e2a, 047f6ec3-6215-35eb-9608-f9dda363a44c, 6e2f1a2d-27bd-3701-8d08-dae202c58632, d47b3510-2895-3b70-9897-342d681c769d, 6e2f1a2d-27bd-3701-8d08-dae202c58632, 6e2f1a2d-27bd-3701-8d08-dae202c58632, b1c428d6-4f07-31e0-90f0-68ffa6ff8c76, 6e2f1a2d-27bd-3701-8d08-dae202c58632\n",
      "$ encounter_payer_coverage             <f64> 89.16, 0.0, 74.16, 69.16, 54.16, 49.16, 54.16, 54.16, 0.0, 54.16\n",
      "$ medication_start_time               <date> 2013-06-09, 2008-10-25, 2003-07-10, 1939-07-01, 2001-02-14, None, 1963-10-16, None, 1964-10-01, 2004-02-16\n",
      "$ medication_end_time                 <date> 2013-07-28, 2009-10-25, 2004-07-15, None, 2002-02-20, None, 1964-01-29, None, 1965-02-18, 2004-11-08\n",
      "$ medication_code                      <i64> 106892, 314231, 310798, 106258, 2123111, None, 746030, None, 106892, 999967\n",
      "$ medication_description               <str> insulin human  isophane 70 UNT/ML / Regular Insulin  Human 30 UNT/ML Injectable Suspension [Humulin], Simvastatin 10 MG Oral Tablet, Hydrochlorothiazide 25 MG Oral Tablet, Hydrocortisone 10 MG/ML Topical Cream, NDA020503 200 ACTUAT Albuterol 0.09 MG/ACTUAT Metered Dose Inhaler, None, Atenolol 50 MG / Chlorthalidone 25 MG Oral Tablet, None, insulin human  isophane 70 UNT/ML / Regular Insulin  Human 30 UNT/ML Injectable Suspension [Humulin], amLODIPine 5 MG / Hydrochlorothiazide 12.5 MG / Olmesartan medoxomil 20 MG Oral Tablet\n",
      "$ medication_diag_code                 <i64> 44054006, 55822004, 59621000, 40275004, 233678006, None, 59621000, None, 44054006, 59621000\n",
      "$ medication_diag_description          <str> Diabetes, Hyperlipidemia, Hypertension, Contact dermatitis, Childhood asthma, None, Hypertension, None, Diabetes, Hypertension\n",
      "$ DISPENSES                            <i64> 1, 12, 12, 985, 12, None, 3, None, 4, 8\n",
      "$ medication_payer                     <str> 7caa7254-5050-3b5e-9eae-bd5ea30e809c, b1c428d6-4f07-31e0-90f0-68ffa6ff8c76, 42c4fca7-f8a9-3cd1-982a-dd9751bf3e2a, 047f6ec3-6215-35eb-9608-f9dda363a44c, 6e2f1a2d-27bd-3701-8d08-dae202c58632, None, 6e2f1a2d-27bd-3701-8d08-dae202c58632, None, b1c428d6-4f07-31e0-90f0-68ffa6ff8c76, 6e2f1a2d-27bd-3701-8d08-dae202c58632\n",
      "$ medication_payer_coverage            <f64> 532.93, 0.0, 0.0, 0.0, 169.68, None, 188.49, None, 0.0, 188.49\n",
      "$ base_medication_cost                 <f64> 572.93, 263.49, 263.49, 10.25, 244.68, None, 263.49, None, 966.92, 263.49\n",
      "$ total_medication_cost                <f64> 572.93, 3161.88, 3161.88, 10096.25, 2936.16, None, 790.47, None, 3867.68, 2107.92\n",
      "\n"
     ]
    }
   ],
   "source": [
    "patients.glimpse()"
   ]
  },
  {
   "cell_type": "code",
   "execution_count": 109,
   "metadata": {},
   "outputs": [
    {
     "data": {
      "text/html": [
       "<div><style>\n",
       ".dataframe > thead > tr > th,\n",
       ".dataframe > tbody > tr > td {\n",
       "  text-align: right;\n",
       "}\n",
       "</style>\n",
       "<small>shape: (9, 14)</small><table border=\"1\" class=\"dataframe\"><thead><tr><th>describe</th><th>age</th><th>healthcare_expenses</th><th>healthcare_coverage</th><th>encounter_diag_code</th><th>BASE_ENCOUNTER_COST</th><th>total_encounter_cost</th><th>encounter_payer_coverage</th><th>medication_code</th><th>medication_diag_code</th><th>DISPENSES</th><th>medication_payer_coverage</th><th>base_medication_cost</th><th>total_medication_cost</th></tr><tr><td>str</td><td>f64</td><td>f64</td><td>f64</td><td>f64</td><td>f64</td><td>f64</td><td>f64</td><td>f64</td><td>f64</td><td>f64</td><td>f64</td><td>f64</td><td>f64</td></tr></thead><tbody><tr><td>&quot;count&quot;</td><td>10000.0</td><td>10000.0</td><td>10000.0</td><td>10000.0</td><td>10000.0</td><td>10000.0</td><td>10000.0</td><td>10000.0</td><td>10000.0</td><td>10000.0</td><td>10000.0</td><td>10000.0</td><td>10000.0</td></tr><tr><td>&quot;null_count&quot;</td><td>0.0</td><td>0.0</td><td>0.0</td><td>7758.0</td><td>0.0</td><td>0.0</td><td>0.0</td><td>2164.0</td><td>3030.0</td><td>2164.0</td><td>2164.0</td><td>2164.0</td><td>2164.0</td></tr><tr><td>&quot;mean&quot;</td><td>65.2183</td><td>1.1303e6</td><td>60264.701766</td><td>1.3050e12</td><td>128.818978</td><td>128.818978</td><td>63.536823</td><td>642547.143058</td><td>2.6037e11</td><td>14.867917</td><td>102.544158</td><td>287.297241</td><td>3486.760655</td></tr><tr><td>&quot;std&quot;</td><td>21.828772</td><td>576831.060505</td><td>156654.140153</td><td>1.1008e13</td><td>4.184025</td><td>4.184025</td><td>40.585773</td><td>466630.308085</td><td>4.8686e12</td><td>52.649607</td><td>410.486387</td><td>476.794279</td><td>22117.901718</td></tr><tr><td>&quot;min&quot;</td><td>0.0</td><td>2258.32</td><td>0.0</td><td>6.072007e6</td><td>77.49</td><td>77.49</td><td>0.0</td><td>106258.0</td><td>1.0509002e7</td><td>1.0</td><td>0.0</td><td>2.64</td><td>2.68</td></tr><tr><td>&quot;25%&quot;</td><td>53.0</td><td>680085.92</td><td>7124.74</td><td>5.5822004e7</td><td>129.16</td><td>129.16</td><td>49.16</td><td>310798.0</td><td>5.5822004e7</td><td>2.0</td><td>0.0</td><td>258.15</td><td>395.64</td></tr><tr><td>&quot;50%&quot;</td><td>67.0</td><td>1.3540e6</td><td>14116.53</td><td>7.2892002e7</td><td>129.16</td><td>129.16</td><td>69.16</td><td>429503.0</td><td>5.9621e7</td><td>12.0</td><td>0.0</td><td>263.49</td><td>3161.88</td></tr><tr><td>&quot;75%&quot;</td><td>80.0</td><td>1.5463e6</td><td>31979.57</td><td>1.85086009e8</td><td>129.16</td><td>129.16</td><td>89.16</td><td>895994.0</td><td>5.9621e7</td><td>12.0</td><td>188.49</td><td>263.49</td><td>3161.88</td></tr><tr><td>&quot;max&quot;</td><td>114.0</td><td>3.7163e6</td><td>2.1464e6</td><td>1.2417e14</td><td>129.16</td><td>129.16</td><td>129.16</td><td>2.123111e6</td><td>1.3228e14</td><td>985.0</td><td>6896.28</td><td>6971.28</td><td>1.3783e6</td></tr></tbody></table></div>"
      ],
      "text/plain": [
       "shape: (9, 14)\n",
       "┌───────────┬───────────┬───────────┬───────────┬───┬───────────┬───────────┬───────────┬──────────┐\n",
       "│ describe  ┆ age       ┆ healthcar ┆ healthcar ┆ … ┆ DISPENSES ┆ medicatio ┆ base_medi ┆ total_me │\n",
       "│ ---       ┆ ---       ┆ e_expense ┆ e_coverag ┆   ┆ ---       ┆ n_payer_c ┆ cation_co ┆ dication │\n",
       "│ str       ┆ f64       ┆ s         ┆ e         ┆   ┆ f64       ┆ overage   ┆ st        ┆ _cost    │\n",
       "│           ┆           ┆ ---       ┆ ---       ┆   ┆           ┆ ---       ┆ ---       ┆ ---      │\n",
       "│           ┆           ┆ f64       ┆ f64       ┆   ┆           ┆ f64       ┆ f64       ┆ f64      │\n",
       "╞═══════════╪═══════════╪═══════════╪═══════════╪═══╪═══════════╪═══════════╪═══════════╪══════════╡\n",
       "│ count     ┆ 10000.0   ┆ 10000.0   ┆ 10000.0   ┆ … ┆ 10000.0   ┆ 10000.0   ┆ 10000.0   ┆ 10000.0  │\n",
       "│ null_coun ┆ 0.0       ┆ 0.0       ┆ 0.0       ┆ … ┆ 2164.0    ┆ 2164.0    ┆ 2164.0    ┆ 2164.0   │\n",
       "│ t         ┆           ┆           ┆           ┆   ┆           ┆           ┆           ┆          │\n",
       "│ mean      ┆ 65.2183   ┆ 1.1303e6  ┆ 60264.701 ┆ … ┆ 14.867917 ┆ 102.54415 ┆ 287.29724 ┆ 3486.760 │\n",
       "│           ┆           ┆           ┆ 766       ┆   ┆           ┆ 8         ┆ 1         ┆ 655      │\n",
       "│ std       ┆ 21.828772 ┆ 576831.06 ┆ 156654.14 ┆ … ┆ 52.649607 ┆ 410.48638 ┆ 476.79427 ┆ 22117.90 │\n",
       "│           ┆           ┆ 0505      ┆ 0153      ┆   ┆           ┆ 7         ┆ 9         ┆ 1718     │\n",
       "│ min       ┆ 0.0       ┆ 2258.32   ┆ 0.0       ┆ … ┆ 1.0       ┆ 0.0       ┆ 2.64      ┆ 2.68     │\n",
       "│ 25%       ┆ 53.0      ┆ 680085.92 ┆ 7124.74   ┆ … ┆ 2.0       ┆ 0.0       ┆ 258.15    ┆ 395.64   │\n",
       "│ 50%       ┆ 67.0      ┆ 1.3540e6  ┆ 14116.53  ┆ … ┆ 12.0      ┆ 0.0       ┆ 263.49    ┆ 3161.88  │\n",
       "│ 75%       ┆ 80.0      ┆ 1.5463e6  ┆ 31979.57  ┆ … ┆ 12.0      ┆ 188.49    ┆ 263.49    ┆ 3161.88  │\n",
       "│ max       ┆ 114.0     ┆ 3.7163e6  ┆ 2.1464e6  ┆ … ┆ 985.0     ┆ 6896.28   ┆ 6971.28   ┆ 1.3783e6 │\n",
       "└───────────┴───────────┴───────────┴───────────┴───┴───────────┴───────────┴───────────┴──────────┘"
      ]
     },
     "execution_count": 109,
     "metadata": {},
     "output_type": "execute_result"
    }
   ],
   "source": [
    "(\n",
    "    patients\n",
    "    .select(cs.numeric())\n",
    "    .describe()\n",
    ")"
   ]
  },
  {
   "cell_type": "code",
   "execution_count": 110,
   "metadata": {},
   "outputs": [
    {
     "data": {
      "text/html": [
       "<div><style>\n",
       ".dataframe > thead > tr > th,\n",
       ".dataframe > tbody > tr > td {\n",
       "  text-align: right;\n",
       "}\n",
       "</style>\n",
       "<small>shape: (9, 2)</small><table border=\"1\" class=\"dataframe\"><thead><tr><th>describe</th><th>age</th></tr><tr><td>str</td><td>f64</td></tr></thead><tbody><tr><td>&quot;count&quot;</td><td>10000.0</td></tr><tr><td>&quot;null_count&quot;</td><td>0.0</td></tr><tr><td>&quot;mean&quot;</td><td>65.2183</td></tr><tr><td>&quot;std&quot;</td><td>21.828772</td></tr><tr><td>&quot;min&quot;</td><td>0.0</td></tr><tr><td>&quot;25%&quot;</td><td>53.0</td></tr><tr><td>&quot;50%&quot;</td><td>67.0</td></tr><tr><td>&quot;75%&quot;</td><td>80.0</td></tr><tr><td>&quot;max&quot;</td><td>114.0</td></tr></tbody></table></div>"
      ],
      "text/plain": [
       "shape: (9, 2)\n",
       "┌────────────┬───────────┐\n",
       "│ describe   ┆ age       │\n",
       "│ ---        ┆ ---       │\n",
       "│ str        ┆ f64       │\n",
       "╞════════════╪═══════════╡\n",
       "│ count      ┆ 10000.0   │\n",
       "│ null_count ┆ 0.0       │\n",
       "│ mean       ┆ 65.2183   │\n",
       "│ std        ┆ 21.828772 │\n",
       "│ min        ┆ 0.0       │\n",
       "│ 25%        ┆ 53.0      │\n",
       "│ 50%        ┆ 67.0      │\n",
       "│ 75%        ┆ 80.0      │\n",
       "│ max        ┆ 114.0     │\n",
       "└────────────┴───────────┘"
      ]
     },
     "execution_count": 110,
     "metadata": {},
     "output_type": "execute_result"
    }
   ],
   "source": [
    "(\n",
    "    patients\n",
    "    .select(pl.col(\"age\"))\n",
    "    .describe()\n",
    ")"
   ]
  },
  {
   "cell_type": "code",
   "execution_count": 113,
   "metadata": {},
   "outputs": [
    {
     "data": {
      "text/plain": [
       "┌──────────────────────────────────────┬──────────────────────────────────┐\n",
       "│               patient                │ round(sum(base_medication_cost)) │\n",
       "│               varchar                │              double              │\n",
       "├──────────────────────────────────────┼──────────────────────────────────┤\n",
       "│ 11a5a0db-d943-4b7b-a68d-fadba6465793 │                         250914.0 │\n",
       "│ c4f5e145-7b24-4003-bcf9-9f52386fb824 │                         238204.0 │\n",
       "│ f5f2d860-3b86-4ffa-ab5a-8847440afb4b │                         237154.0 │\n",
       "│ 80295f40-85cc-4558-b93c-df371d647b91 │                         234002.0 │\n",
       "│ b9731b1c-a616-41e2-a023-5e2fa4deeefd │                         232988.0 │\n",
       "│ 4627ba78-4b9c-46ae-a06b-b4e8bdb37b39 │                         231534.0 │\n",
       "│ 552269a5-6496-4e79-be06-a26a697a1a94 │                         222790.0 │\n",
       "│ c22fcc5b-57fb-4db0-a723-db4e186c5f7a │                         215118.0 │\n",
       "│ bdc4268b-ebfe-48ef-89df-d4c4261eca9b │                         211236.0 │\n",
       "│ 5ea73737-5885-4ee5-8197-96a7a9eedaab │                         208615.0 │\n",
       "├──────────────────────────────────────┴──────────────────────────────────┤\n",
       "│ 10 rows                                                       2 columns │\n",
       "└─────────────────────────────────────────────────────────────────────────┘"
      ]
     },
     "execution_count": 113,
     "metadata": {},
     "output_type": "execute_result"
    }
   ],
   "source": [
    "con.sql('select patient, round(sum(base_medication_cost)) from patients group by patient order by sum(base_medication_cost) desc limit 10')"
   ]
  },
  {
   "cell_type": "code",
   "execution_count": null,
   "metadata": {},
   "outputs": [],
   "source": []
  },
  {
   "cell_type": "markdown",
   "metadata": {},
   "source": [
    "# Close connection"
   ]
  },
  {
   "cell_type": "code",
   "execution_count": 114,
   "metadata": {},
   "outputs": [],
   "source": [
    "con.close()"
   ]
  }
 ],
 "metadata": {
  "kernelspec": {
   "display_name": "dbt_duckdb",
   "language": "python",
   "name": "python3"
  },
  "language_info": {
   "codemirror_mode": {
    "name": "ipython",
    "version": 3
   },
   "file_extension": ".py",
   "mimetype": "text/x-python",
   "name": "python",
   "nbconvert_exporter": "python",
   "pygments_lexer": "ipython3",
   "version": "3.10.12"
  },
  "orig_nbformat": 4
 },
 "nbformat": 4,
 "nbformat_minor": 2
}
